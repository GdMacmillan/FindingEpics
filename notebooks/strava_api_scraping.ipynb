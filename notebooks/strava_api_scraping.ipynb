{
 "cells": [
  {
   "cell_type": "code",
   "execution_count": 11,
   "metadata": {},
   "outputs": [
    {
     "name": "stdout",
     "output_type": "stream",
     "text": [
      "\u001b[32m\u001b[1m Resolving\u001b[22m\u001b[39m package versions...\n",
      "\u001b[32m\u001b[1m  Updating\u001b[22m\u001b[39m `/opt/julia/environments/v1.3/Project.toml`\n",
      " \u001b[90m [682c06a0]\u001b[39m\u001b[92m + JSON v0.21.0\u001b[39m\n",
      "\u001b[32m\u001b[1m  Updating\u001b[22m\u001b[39m `/opt/julia/environments/v1.3/Manifest.toml`\n",
      "\u001b[90m [no changes]\u001b[39m\n"
     ]
    }
   ],
   "source": [
    "] add DataFrames JuliaDB HTTP JSON"
   ]
  },
  {
   "cell_type": "code",
   "execution_count": 17,
   "metadata": {},
   "outputs": [],
   "source": [
    "CLIENT_SECRET=\"b6919ac245fc876659b98810bed4fca6ddccefda\";\n",
    "CLIENT_ID=\"15880\";\n",
    "ACCESS_TOKEN=\"d3c48960fa8062e98e43f9d8ddd23e4a576753b7\";"
   ]
  },
  {
   "cell_type": "code",
   "execution_count": 18,
   "metadata": {},
   "outputs": [
    {
     "name": "stdout",
     "output_type": "stream",
     "text": [
      "Dict{String,Any}(\"friend\" => nothing,\"created_at\" => \"2014-11-30T17:39:06Z\",\"profile_medium\" => \"https://dgalywyr863hv.cloudfront.net/pictures/athletes/7202879/2175865/2/medium.jpg\",\"username\" => \"macmillan_gordon\",\"follower\" => nothing,\"premium\" => true,\"sex\" => \"M\",\"state\" => \"CO\",\"summit\" => true,\"badge_type_id\" => 1,\"id\" => 7202879,\"updated_at\" => \"2020-07-24T02:08:47Z\",\"country\" => \"United States\",\"firstname\" => \"Gordon\",\"resource_state\" => 2,\"profile\" => \"https://dgalywyr863hv.cloudfront.net/pictures/athletes/7202879/2175865/2/large.jpg\",\"city\" => \"Denver\",\"lastname\" => \"MacMillan\")\n"
     ]
    }
   ],
   "source": [
    "using HTTP \n",
    "using JSON\n",
    "\n",
    "params = Dict(\"access_token\"=>ACCESS_TOKEN)\n",
    "base_url = \"https://www.strava.com\"\n",
    "endpoint = \"/api/v3/athlete\"\n",
    "url = base_url * endpoint\n",
    "r = HTTP.request(\"GET\", url,\n",
    "             [\"Content-Type\" => \"application/json\"],\n",
    "             JSON.json(params))\n",
    "println(JSON.parse(String(r.body)))"
   ]
  },
  {
   "cell_type": "code",
   "execution_count": null,
   "metadata": {},
   "outputs": [],
   "source": []
  }
 ],
 "metadata": {
  "kernelspec": {
   "display_name": "Julia 1.3.1",
   "language": "julia",
   "name": "julia-1.3"
  },
  "language_info": {
   "file_extension": ".jl",
   "mimetype": "application/julia",
   "name": "julia",
   "version": "1.3.1"
  }
 },
 "nbformat": 4,
 "nbformat_minor": 4
}
