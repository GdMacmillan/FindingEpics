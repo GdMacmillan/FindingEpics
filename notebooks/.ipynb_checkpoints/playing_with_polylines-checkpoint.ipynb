{
 "cells": [
  {
   "cell_type": "code",
   "execution_count": 1,
   "metadata": {
    "collapsed": true
   },
   "outputs": [],
   "source": [
    "import pandas as pd\n",
    "import numpy as np\n",
    "import matplotlib.pyplot as plt\n",
    "import polyline\n",
    "import uuid "
   ]
  },
  {
   "cell_type": "code",
   "execution_count": 2,
   "metadata": {
    "collapsed": false
   },
   "outputs": [],
   "source": [
    "df = pd.read_csv('../data/activities_small.csv', encoding='utf-8') # read is small dataset"
   ]
  },
  {
   "cell_type": "code",
   "execution_count": 3,
   "metadata": {
    "collapsed": false
   },
   "outputs": [
    {
     "data": {
      "text/plain": [
       "[u'id',\n",
       " u'name',\n",
       " u'distance',\n",
       " u'moving_time',\n",
       " u'elapsed_time',\n",
       " u'total_elevation_gain',\n",
       " u'type',\n",
       " u'start_date',\n",
       " u'start_date_local',\n",
       " u'timezone',\n",
       " u'achievement_count',\n",
       " u'kudos_count',\n",
       " u'comment_count',\n",
       " u'athlete_count',\n",
       " u'photo_count',\n",
       " u'total_photo_count',\n",
       " u'trainer',\n",
       " u'commute',\n",
       " u'manual',\n",
       " u'private',\n",
       " u'flagged',\n",
       " u'average_speed',\n",
       " u'max_speed',\n",
       " u'average_watts',\n",
       " u'max_watts',\n",
       " u'weighted_average_watts',\n",
       " u'kilojoules',\n",
       " u'device_watts',\n",
       " u'has_heartrate',\n",
       " u'average_heartrate',\n",
       " u'max_heartrate',\n",
       " u'athlete_id',\n",
       " u'map_id',\n",
       " u'map_summary_polyline',\n",
       " u'start_lat',\n",
       " u'start_lng',\n",
       " u'end_lat',\n",
       " u'end_lng',\n",
       " u'state',\n",
       " u'closest_city']"
      ]
     },
     "execution_count": 3,
     "metadata": {},
     "output_type": "execute_result"
    }
   ],
   "source": [
    "df.columns.tolist()"
   ]
  },
  {
   "cell_type": "code",
   "execution_count": 4,
   "metadata": {
    "collapsed": false
   },
   "outputs": [
    {
     "data": {
      "text/plain": [
       "(7164, 40)"
      ]
     },
     "execution_count": 4,
     "metadata": {},
     "output_type": "execute_result"
    }
   ],
   "source": [
    "df = df[df['commute'] == 0] # drop all where commute = true\n",
    "df = df[df['state'] == 'Colorado'] # drop all where state != Colorado\n",
    "df.dropna(subset=['map_summary_polyline'], inplace=True) # drop all where map_summary_polyline is nan\n",
    "df.reset_index(drop=True, inplace=True)\n",
    "df.shape"
   ]
  },
  {
   "cell_type": "code",
   "execution_count": 5,
   "metadata": {
    "collapsed": false
   },
   "outputs": [
    {
     "data": {
      "text/html": [
       "<div>\n",
       "<table border=\"1\" class=\"dataframe\">\n",
       "  <thead>\n",
       "    <tr style=\"text-align: right;\">\n",
       "      <th></th>\n",
       "      <th>id</th>\n",
       "      <th>name</th>\n",
       "      <th>distance</th>\n",
       "      <th>moving_time</th>\n",
       "      <th>elapsed_time</th>\n",
       "      <th>total_elevation_gain</th>\n",
       "      <th>type</th>\n",
       "      <th>start_date</th>\n",
       "      <th>start_date_local</th>\n",
       "      <th>timezone</th>\n",
       "      <th>...</th>\n",
       "      <th>max_heartrate</th>\n",
       "      <th>athlete_id</th>\n",
       "      <th>map_id</th>\n",
       "      <th>map_summary_polyline</th>\n",
       "      <th>start_lat</th>\n",
       "      <th>start_lng</th>\n",
       "      <th>end_lat</th>\n",
       "      <th>end_lng</th>\n",
       "      <th>state</th>\n",
       "      <th>closest_city</th>\n",
       "    </tr>\n",
       "  </thead>\n",
       "  <tbody>\n",
       "    <tr>\n",
       "      <th>0</th>\n",
       "      <td>467664896</td>\n",
       "      <td>Fat Bike in the snow at GM</td>\n",
       "      <td>12557.8</td>\n",
       "      <td>4111.0</td>\n",
       "      <td>4193.0</td>\n",
       "      <td>419.4</td>\n",
       "      <td>Ride</td>\n",
       "      <td>2016-01-10 19:13:47+00:00</td>\n",
       "      <td>2016-01-10 12:13:47</td>\n",
       "      <td>America/Denver</td>\n",
       "      <td>...</td>\n",
       "      <td>NaN</td>\n",
       "      <td>7360660</td>\n",
       "      <td>a467664896</td>\n",
       "      <td>w`gqFnpx`SDzEkDYw@wBApDdBjBGlD~@~@u@pCgJdD_AdM...</td>\n",
       "      <td>39.69</td>\n",
       "      <td>-105.15</td>\n",
       "      <td>39.69</td>\n",
       "      <td>-105.15</td>\n",
       "      <td>Colorado</td>\n",
       "      <td>Lakewood</td>\n",
       "    </tr>\n",
       "    <tr>\n",
       "      <th>1</th>\n",
       "      <td>308543489</td>\n",
       "      <td>05/19/2015 Fruita, CO Horse Thief Bench</td>\n",
       "      <td>15941.8</td>\n",
       "      <td>3448.0</td>\n",
       "      <td>4356.0</td>\n",
       "      <td>322.0</td>\n",
       "      <td>Ride</td>\n",
       "      <td>2015-05-20 00:41:46+00:00</td>\n",
       "      <td>2015-05-19 18:41:46</td>\n",
       "      <td>America/Denver</td>\n",
       "      <td>...</td>\n",
       "      <td>148.0</td>\n",
       "      <td>113571</td>\n",
       "      <td>a308543489</td>\n",
       "      <td>scbnFjbgwSQjMzFhGnAzMJdEgBdBWtDpA`G|NnU`AxImAx...</td>\n",
       "      <td>39.17</td>\n",
       "      <td>-108.83</td>\n",
       "      <td>39.18</td>\n",
       "      <td>-108.83</td>\n",
       "      <td>Colorado</td>\n",
       "      <td>Fruita</td>\n",
       "    </tr>\n",
       "    <tr>\n",
       "      <th>2</th>\n",
       "      <td>432799746</td>\n",
       "      <td>Lunch Ride</td>\n",
       "      <td>77276.3</td>\n",
       "      <td>10158.0</td>\n",
       "      <td>15286.0</td>\n",
       "      <td>962.0</td>\n",
       "      <td>Ride</td>\n",
       "      <td>2015-11-14 19:21:32+00:00</td>\n",
       "      <td>2015-11-14 12:21:32</td>\n",
       "      <td>America/Denver</td>\n",
       "      <td>...</td>\n",
       "      <td>NaN</td>\n",
       "      <td>67365</td>\n",
       "      <td>a432799746</td>\n",
       "      <td>kf`sFhaiaS}KiBsAtFyI`ByeAjyBqBjNeJt@iC_EcGsAcn...</td>\n",
       "      <td>39.98</td>\n",
       "      <td>-105.24</td>\n",
       "      <td>39.98</td>\n",
       "      <td>-105.24</td>\n",
       "      <td>Colorado</td>\n",
       "      <td>Boulder</td>\n",
       "    </tr>\n",
       "    <tr>\n",
       "      <th>3</th>\n",
       "      <td>308543507</td>\n",
       "      <td>05/20/2015 Fruita, CO Edge Loop</td>\n",
       "      <td>53577.9</td>\n",
       "      <td>14160.0</td>\n",
       "      <td>19563.0</td>\n",
       "      <td>1355.0</td>\n",
       "      <td>Ride</td>\n",
       "      <td>2015-05-20 15:55:46+00:00</td>\n",
       "      <td>2015-05-20 09:55:46</td>\n",
       "      <td>America/Denver</td>\n",
       "      <td>...</td>\n",
       "      <td>159.0</td>\n",
       "      <td>113571</td>\n",
       "      <td>a308543507</td>\n",
       "      <td>ez|nFrrnvSvRzu@aKhOsw@|FzDxFoKpZlMz_@qBpL}PrCk...</td>\n",
       "      <td>39.31</td>\n",
       "      <td>-108.71</td>\n",
       "      <td>39.31</td>\n",
       "      <td>-108.71</td>\n",
       "      <td>Colorado</td>\n",
       "      <td>Fruita</td>\n",
       "    </tr>\n",
       "    <tr>\n",
       "      <th>4</th>\n",
       "      <td>718012436</td>\n",
       "      <td>Lunch ride with Spencer</td>\n",
       "      <td>26395.2</td>\n",
       "      <td>4604.0</td>\n",
       "      <td>4971.0</td>\n",
       "      <td>391.7</td>\n",
       "      <td>Ride</td>\n",
       "      <td>2016-09-19 17:04:45+00:00</td>\n",
       "      <td>2016-09-19 11:04:45</td>\n",
       "      <td>America/Denver</td>\n",
       "      <td>...</td>\n",
       "      <td>NaN</td>\n",
       "      <td>153343</td>\n",
       "      <td>a718012436</td>\n",
       "      <td>sojsFd_naSs@r@|BsCMgBxMaAzByD~b@{@nAsCKaPhBy@v...</td>\n",
       "      <td>40.04</td>\n",
       "      <td>-105.26</td>\n",
       "      <td>40.04</td>\n",
       "      <td>-105.26</td>\n",
       "      <td>Colorado</td>\n",
       "      <td>Boulder</td>\n",
       "    </tr>\n",
       "  </tbody>\n",
       "</table>\n",
       "<p>5 rows × 40 columns</p>\n",
       "</div>"
      ],
      "text/plain": [
       "          id                                     name  distance  moving_time  \\\n",
       "0  467664896               Fat Bike in the snow at GM   12557.8       4111.0   \n",
       "1  308543489  05/19/2015 Fruita, CO Horse Thief Bench   15941.8       3448.0   \n",
       "2  432799746                               Lunch Ride   77276.3      10158.0   \n",
       "3  308543507          05/20/2015 Fruita, CO Edge Loop   53577.9      14160.0   \n",
       "4  718012436                  Lunch ride with Spencer   26395.2       4604.0   \n",
       "\n",
       "   elapsed_time  total_elevation_gain  type                 start_date  \\\n",
       "0        4193.0                 419.4  Ride  2016-01-10 19:13:47+00:00   \n",
       "1        4356.0                 322.0  Ride  2015-05-20 00:41:46+00:00   \n",
       "2       15286.0                 962.0  Ride  2015-11-14 19:21:32+00:00   \n",
       "3       19563.0                1355.0  Ride  2015-05-20 15:55:46+00:00   \n",
       "4        4971.0                 391.7  Ride  2016-09-19 17:04:45+00:00   \n",
       "\n",
       "      start_date_local        timezone     ...       max_heartrate  \\\n",
       "0  2016-01-10 12:13:47  America/Denver     ...                 NaN   \n",
       "1  2015-05-19 18:41:46  America/Denver     ...               148.0   \n",
       "2  2015-11-14 12:21:32  America/Denver     ...                 NaN   \n",
       "3  2015-05-20 09:55:46  America/Denver     ...               159.0   \n",
       "4  2016-09-19 11:04:45  America/Denver     ...                 NaN   \n",
       "\n",
       "   athlete_id      map_id                               map_summary_polyline  \\\n",
       "0     7360660  a467664896  w`gqFnpx`SDzEkDYw@wBApDdBjBGlD~@~@u@pCgJdD_AdM...   \n",
       "1      113571  a308543489  scbnFjbgwSQjMzFhGnAzMJdEgBdBWtDpA`G|NnU`AxImAx...   \n",
       "2       67365  a432799746  kf`sFhaiaS}KiBsAtFyI`ByeAjyBqBjNeJt@iC_EcGsAcn...   \n",
       "3      113571  a308543507  ez|nFrrnvSvRzu@aKhOsw@|FzDxFoKpZlMz_@qBpL}PrCk...   \n",
       "4      153343  a718012436  sojsFd_naSs@r@|BsCMgBxMaAzByD~b@{@nAsCKaPhBy@v...   \n",
       "\n",
       "   start_lat  start_lng end_lat end_lng     state closest_city  \n",
       "0      39.69    -105.15   39.69 -105.15  Colorado     Lakewood  \n",
       "1      39.17    -108.83   39.18 -108.83  Colorado       Fruita  \n",
       "2      39.98    -105.24   39.98 -105.24  Colorado      Boulder  \n",
       "3      39.31    -108.71   39.31 -108.71  Colorado       Fruita  \n",
       "4      40.04    -105.26   40.04 -105.26  Colorado      Boulder  \n",
       "\n",
       "[5 rows x 40 columns]"
      ]
     },
     "execution_count": 5,
     "metadata": {},
     "output_type": "execute_result"
    }
   ],
   "source": [
    "df.head()"
   ]
  },
  {
   "cell_type": "code",
   "execution_count": 6,
   "metadata": {
    "collapsed": false
   },
   "outputs": [],
   "source": [
    "lats = df.start_lat.values"
   ]
  },
  {
   "cell_type": "code",
   "execution_count": 7,
   "metadata": {
    "collapsed": false
   },
   "outputs": [],
   "source": [
    "lngs = df.start_lng.values"
   ]
  },
  {
   "cell_type": "code",
   "execution_count": 8,
   "metadata": {
    "collapsed": false
   },
   "outputs": [],
   "source": [
    "from itertools import izip\n",
    "dsts = []\n",
    "for (lt, lg) in izip(lats, lngs):\n",
    "    dsts.append(np.sqrt((lats - lt)**2 + (lngs - lg)**2))"
   ]
  },
  {
   "cell_type": "code",
   "execution_count": 9,
   "metadata": {
    "collapsed": false
   },
   "outputs": [],
   "source": [
    "dsts = np.array(dsts)\n",
    "il1 = np.tril_indices(dsts.shape[0])\n",
    "dsts[il1] = -1"
   ]
  },
  {
   "cell_type": "code",
   "execution_count": 10,
   "metadata": {
    "collapsed": false
   },
   "outputs": [
    {
     "data": {
      "text/plain": [
       "(7164, 7164)"
      ]
     },
     "execution_count": 10,
     "metadata": {},
     "output_type": "execute_result"
    }
   ],
   "source": [
    "dsts.shape"
   ]
  },
  {
   "cell_type": "code",
   "execution_count": 11,
   "metadata": {
    "collapsed": false
   },
   "outputs": [
    {
     "data": {
      "text/plain": [
       "array([[-1.        ,  3.71655755,  0.30364453,  3.58022346],\n",
       "       [-1.        , -1.        ,  3.68024456,  0.18439089],\n",
       "       [-1.        , -1.        , -1.        ,  3.53409111],\n",
       "       [-1.        , -1.        , -1.        , -1.        ]])"
      ]
     },
     "execution_count": 11,
     "metadata": {},
     "output_type": "execute_result"
    }
   ],
   "source": [
    "dsts[:4, :4]"
   ]
  },
  {
   "cell_type": "code",
   "execution_count": 80,
   "metadata": {
    "collapsed": false
   },
   "outputs": [],
   "source": [
    "pairs = np.argwhere((dsts <= 0.01) & (dsts > -1)) # all pairs of indices with distances between start locations shorter than threshold of 0.01"
   ]
  },
  {
   "cell_type": "code",
   "execution_count": 86,
   "metadata": {
    "collapsed": false
   },
   "outputs": [
    {
     "data": {
      "text/plain": [
       "array([[   0,  466],\n",
       "       [   0, 1818],\n",
       "       [   0, 1873],\n",
       "       [   0, 2731],\n",
       "       [   0, 2790],\n",
       "       [   0, 3904],\n",
       "       [   0, 7025],\n",
       "       [   1,  216],\n",
       "       [   1,  547],\n",
       "       [   1, 1152],\n",
       "       [   1, 1260],\n",
       "       [   1, 1591],\n",
       "       [   1, 3346],\n",
       "       [   1, 4471],\n",
       "       [   1, 5295]])"
      ]
     },
     "execution_count": 86,
     "metadata": {},
     "output_type": "execute_result"
    }
   ],
   "source": [
    "pairs[:15]"
   ]
  },
  {
   "cell_type": "code",
   "execution_count": 79,
   "metadata": {
    "collapsed": false
   },
   "outputs": [],
   "source": []
  },
  {
   "cell_type": "code",
   "execution_count": null,
   "metadata": {
    "collapsed": false
   },
   "outputs": [],
   "source": []
  },
  {
   "cell_type": "code",
   "execution_count": null,
   "metadata": {
    "collapsed": false
   },
   "outputs": [],
   "source": []
  },
  {
   "cell_type": "code",
   "execution_count": 15,
   "metadata": {
    "collapsed": false
   },
   "outputs": [],
   "source": [
    "def make_indexer(arr): # might not need indexer\n",
    "    indexer = {}\n",
    "    for pair in arr:\n",
    "        if pair[0] in indexer:\n",
    "            indexer[pair[0]].append(pair[1])\n",
    "        else:\n",
    "            indexer[pair[0]] = [pair[1]]\n",
    "    return indexer\n",
    "start_clusters = make_indexer(pairs)"
   ]
  },
  {
   "cell_type": "code",
   "execution_count": 16,
   "metadata": {
    "collapsed": false
   },
   "outputs": [],
   "source": [
    "# start_clusters"
   ]
  },
  {
   "cell_type": "code",
   "execution_count": 17,
   "metadata": {
    "collapsed": false
   },
   "outputs": [],
   "source": [
    "poly1 = np.array(polyline.decode(df.ix[0, 'map_summary_polyline'])).flatten()"
   ]
  },
  {
   "cell_type": "code",
   "execution_count": 18,
   "metadata": {
    "collapsed": false
   },
   "outputs": [],
   "source": [
    "poly2 = np.array(polyline.decode(df.ix[2574, 'map_summary_polyline'])).flatten()"
   ]
  },
  {
   "cell_type": "code",
   "execution_count": 19,
   "metadata": {
    "collapsed": false
   },
   "outputs": [
    {
     "data": {
      "text/plain": [
       "170"
      ]
     },
     "execution_count": 19,
     "metadata": {},
     "output_type": "execute_result"
    }
   ],
   "source": [
    "len(poly1)"
   ]
  },
  {
   "cell_type": "code",
   "execution_count": 20,
   "metadata": {
    "collapsed": false
   },
   "outputs": [
    {
     "data": {
      "text/plain": [
       "122"
      ]
     },
     "execution_count": 20,
     "metadata": {},
     "output_type": "execute_result"
    }
   ],
   "source": [
    "len(poly2)"
   ]
  },
  {
   "cell_type": "code",
   "execution_count": 21,
   "metadata": {
    "collapsed": false
   },
   "outputs": [],
   "source": [
    "def polytrim(poly1, poly2):\n",
    "    diff = len(poly1) - len(poly2)\n",
    "    rands = np.random.choice(np.arange(0, len(poly1)-2, 2), diff/2, replace=False)\n",
    "    return np.delete(poly1, np.hstack((rands,rands+1)))\n",
    "\n",
    "def conditional_dist(poly1, poly2):\n",
    "    if np.linalg.norm(np.subtract(poly1[-2:], poly2[-2:])) <= 0.01: # if end points are close by a certain threshold\n",
    "        if len(poly1) > len(poly2):\n",
    "            poly1 = polytrim(poly1, poly2)\n",
    "        elif len(poly1) < len(poly2):\n",
    "            poly2 = polytrim(poly2, poly1)\n",
    "        return np.linalg.norm(np.subtract(poly1, poly2)) # return distance between polylines"
   ]
  },
  {
   "cell_type": "code",
   "execution_count": null,
   "metadata": {
    "collapsed": false
   },
   "outputs": [],
   "source": []
  },
  {
   "cell_type": "code",
   "execution_count": 22,
   "metadata": {
    "collapsed": false
   },
   "outputs": [],
   "source": [
    "poly_pair_dsts = []\n",
    "for idx1, other_idxs in start_clusters.iteritems():\n",
    "    for idx2 in other_idxs:\n",
    "        poly1 = np.array(polyline.decode(df.ix[idx1, 'map_summary_polyline'])).flatten()\n",
    "        poly2 = np.array(polyline.decode(df.ix[idx2, 'map_summary_polyline'])).flatten()\n",
    "        dist = conditional_dist(poly1, poly2)\n",
    "        if dist is not None: # if distance between polylines is not None, add to list\n",
    "            poly_pair_dsts.append(dist)\n"
   ]
  },
  {
   "cell_type": "code",
   "execution_count": 23,
   "metadata": {
    "collapsed": false
   },
   "outputs": [
    {
     "data": {
      "text/plain": [
       "125390"
      ]
     },
     "execution_count": 23,
     "metadata": {},
     "output_type": "execute_result"
    }
   ],
   "source": [
    "len(poly_pair_dsts)"
   ]
  },
  {
   "cell_type": "code",
   "execution_count": 24,
   "metadata": {
    "collapsed": false
   },
   "outputs": [
    {
     "data": {
      "image/png": "[encoded data removed]",
      "text/plain": [
       "<matplotlib.figure.Figure at 0x114bfef50>"
      ]
     },
     "metadata": {},
     "output_type": "display_data"
    }
   ],
   "source": [
    "import matplotlib.mlab as mlab\n",
    "x = poly_pair_dsts\n",
    "\n",
    "# the histogram of the data\n",
    "n, bins, patches = plt.hist(x, 50, normed=1, facecolor='green', alpha=0.75)\n",
    "\n",
    "plt.xlabel('Smarts')\n",
    "plt.ylabel('Probability')\n",
    "plt.title(r'$\\mathrm{Histogram\\ of\\ activity\\ polylines\\ that\\ are\\ close:}\\ \\mu=100,\\ \\sigma=15$')\n",
    "# plt.axis([40, 160, 0, 0.03])\n",
    "plt.grid(True)\n",
    "\n",
    "plt.show()"
   ]
  },
  {
   "cell_type": "code",
   "execution_count": 25,
   "metadata": {
    "collapsed": false
   },
   "outputs": [],
   "source": [
    "from scipy import stats"
   ]
  },
  {
   "cell_type": "code",
   "execution_count": 26,
   "metadata": {
    "collapsed": false
   },
   "outputs": [
    {
     "name": "stdout",
     "output_type": "stream",
     "text": [
      "mean: 0.642034255824 var: 0.464744222225\n"
     ]
    }
   ],
   "source": [
    "rslt = stats.describe(poly_pair_dsts)\n",
    "print \"mean: {}\".format(rslt.mean), \"var: {}\".format(rslt.variance)"
   ]
  },
  {
   "cell_type": "code",
   "execution_count": 27,
   "metadata": {
    "collapsed": false
   },
   "outputs": [
    {
     "name": "stdout",
     "output_type": "stream",
     "text": [
      "0\n"
     ]
    }
   ],
   "source": [
    "print(sum(x is None for x in poly_pair_dsts))"
   ]
  },
  {
   "cell_type": "markdown",
   "metadata": {
    "collapsed": true
   },
   "source": [
    "#### This has been my approach to looking at the distances between polylines with aligning endpoints. I started by finding all distances between activity start locations. Since this would be a symmetric array, to save computations i set the lower half of the array equal to -1. I then picked only pairs of indices who's start locations were closer than 0.01 (units in degrees of latitude and longitude (this is probably OK for now but a more accurate distance would be to compute distance between points on the surface of a sphere). Next, for each pair, I decode the polylines, check to make sure the end points are closer than 0.01, and if yes, I remove a sample from the longer of the two polylines so that they are the same length. Once the same length, distance can be calculated between the polylines. I added them to a list to see what the distributions on distances with similar start and end locations looks like. Noteably, they are most likely close together which is what we expect."
   ]
  },
  {
   "cell_type": "code",
   "execution_count": 28,
   "metadata": {
    "collapsed": true
   },
   "outputs": [],
   "source": [
    "subset_pairs = []\n",
    "for idx1, other_idxs in start_clusters.iteritems():\n",
    "    for idx2 in other_idxs:\n",
    "        poly1 = np.array(polyline.decode(df.ix[idx1, 'map_summary_polyline'])).flatten()\n",
    "        poly2 = np.array(polyline.decode(df.ix[idx2, 'map_summary_polyline'])).flatten()\n",
    "        dist = conditional_dist(poly1, poly2)\n",
    "        if dist is not None and dist < 1.0: # if distance between polylines is not None, add to list\n",
    "            subset_pairs.append([idx1, idx2])"
   ]
  },
  {
   "cell_type": "code",
   "execution_count": 54,
   "metadata": {
    "collapsed": false
   },
   "outputs": [],
   "source": [
    "df['activity_id'] = 0"
   ]
  },
  {
   "cell_type": "code",
   "execution_count": 87,
   "metadata": {
    "collapsed": true
   },
   "outputs": [],
   "source": [
    "final_clusters = make_indexer(subset_pairs) # make new indexer with matching activity key pairs"
   ]
  },
  {
   "cell_type": "code",
   "execution_count": 90,
   "metadata": {
    "collapsed": false
   },
   "outputs": [],
   "source": [
    "for idx1, other_idxs in final_clusters.iteritems():\n",
    "    activity_id = uuid.uuid4().hex[:8] # 8 char activity key\n",
    "    df.loc[idx1, ['activity_id']] = activity_id\n",
    "    for idx2 in other_idxs:\n",
    "        df.loc[idx2, ['activity_id']] = activity_id"
   ]
  },
  {
   "cell_type": "code",
   "execution_count": 39,
   "metadata": {
    "collapsed": false
   },
   "outputs": [],
   "source": [
    "\n"
   ]
  },
  {
   "cell_type": "code",
   "execution_count": 89,
   "metadata": {
    "collapsed": false
   },
   "outputs": [
    {
     "name": "stdout",
     "output_type": "stream",
     "text": [
      "activity_id    8d801f09\n",
      "Name: 0, dtype: object\n",
      "activity_id    44e9ad6a\n",
      "Name: 466, dtype: object\n",
      "activity_id    eb7496b1\n",
      "Name: 1818, dtype: object\n",
      "activity_id    de4fefbf\n",
      "Name: 1873, dtype: object\n"
     ]
    }
   ],
   "source": [
    "print df.loc[0, ['activity_id']]\n",
    "print df.loc[466, ['activity_id']]\n",
    "print df.loc[1818, ['activity_id']]\n",
    "print df.loc[1873, ['activity_id']]"
   ]
  },
  {
   "cell_type": "code",
   "execution_count": 53,
   "metadata": {
    "collapsed": false
   },
   "outputs": [
    {
     "data": {
      "text/plain": [
       "[0, 466]"
      ]
     },
     "execution_count": 53,
     "metadata": {},
     "output_type": "execute_result"
    }
   ],
   "source": [
    "subset_pairs[0]"
   ]
  },
  {
   "cell_type": "code",
   "execution_count": null,
   "metadata": {
    "collapsed": true
   },
   "outputs": [],
   "source": []
  }
 ],
 "metadata": {
  "anaconda-cloud": {},
  "kernelspec": {
   "display_name": "Python [conda root]",
   "language": "python",
   "name": "conda-root-py"
  },
  "language_info": {
   "codemirror_mode": {
    "name": "ipython",
    "version": 2
   },
   "file_extension": ".py",
   "mimetype": "text/x-python",
   "name": "python",
   "nbconvert_exporter": "python",
   "pygments_lexer": "ipython2",
   "version": "2.7.13"
  }
 },
 "nbformat": 4,
 "nbformat_minor": 1
}
