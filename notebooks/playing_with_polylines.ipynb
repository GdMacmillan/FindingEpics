{
 "cells": [
  {
   "cell_type": "code",
   "execution_count": 163,
   "metadata": {
    "collapsed": true
   },
   "outputs": [],
   "source": [
    "import pandas as pd\n",
    "import numpy as np\n",
    "import matplotlib.pyplot as plt\n",
    "import polyline"
   ]
  },
  {
   "cell_type": "code",
   "execution_count": 164,
   "metadata": {
    "collapsed": false
   },
   "outputs": [],
   "source": [
    "df = pd.read_csv('../data/activities_small.csv', encoding='utf-8') # read is small dataset"
   ]
  },
  {
   "cell_type": "code",
   "execution_count": 165,
   "metadata": {
    "collapsed": false
   },
   "outputs": [
    {
     "data": {
      "text/plain": [
       "[u'id',\n",
       " u'name',\n",
       " u'distance',\n",
       " u'moving_time',\n",
       " u'elapsed_time',\n",
       " u'total_elevation_gain',\n",
       " u'type',\n",
       " u'start_date',\n",
       " u'start_date_local',\n",
       " u'timezone',\n",
       " u'achievement_count',\n",
       " u'kudos_count',\n",
       " u'comment_count',\n",
       " u'athlete_count',\n",
       " u'photo_count',\n",
       " u'total_photo_count',\n",
       " u'trainer',\n",
       " u'commute',\n",
       " u'manual',\n",
       " u'private',\n",
       " u'flagged',\n",
       " u'average_speed',\n",
       " u'max_speed',\n",
       " u'average_watts',\n",
       " u'max_watts',\n",
       " u'weighted_average_watts',\n",
       " u'kilojoules',\n",
       " u'device_watts',\n",
       " u'has_heartrate',\n",
       " u'average_heartrate',\n",
       " u'max_heartrate',\n",
       " u'athlete_id',\n",
       " u'map_id',\n",
       " u'map_summary_polyline',\n",
       " u'start_lat',\n",
       " u'start_lng',\n",
       " u'end_lat',\n",
       " u'end_lng',\n",
       " u'state',\n",
       " u'closest_city']"
      ]
     },
     "execution_count": 165,
     "metadata": {},
     "output_type": "execute_result"
    }
   ],
   "source": [
    "df.columns.tolist()"
   ]
  },
  {
   "cell_type": "code",
   "execution_count": 166,
   "metadata": {
    "collapsed": false
   },
   "outputs": [
    {
     "data": {
      "text/plain": [
       "(9925, 40)"
      ]
     },
     "execution_count": 166,
     "metadata": {},
     "output_type": "execute_result"
    }
   ],
   "source": [
    "# df = df[df['commute'] == 0] # drop all where commute = true\n",
    "df.shape"
   ]
  },
  {
   "cell_type": "code",
   "execution_count": 167,
   "metadata": {
    "collapsed": false
   },
   "outputs": [
    {
     "data": {
      "text/html": [
       "<div>\n",
       "<table border=\"1\" class=\"dataframe\">\n",
       "  <thead>\n",
       "    <tr style=\"text-align: right;\">\n",
       "      <th></th>\n",
       "      <th>id</th>\n",
       "      <th>name</th>\n",
       "      <th>distance</th>\n",
       "      <th>moving_time</th>\n",
       "      <th>elapsed_time</th>\n",
       "      <th>total_elevation_gain</th>\n",
       "      <th>type</th>\n",
       "      <th>start_date</th>\n",
       "      <th>start_date_local</th>\n",
       "      <th>timezone</th>\n",
       "      <th>...</th>\n",
       "      <th>max_heartrate</th>\n",
       "      <th>athlete_id</th>\n",
       "      <th>map_id</th>\n",
       "      <th>map_summary_polyline</th>\n",
       "      <th>start_lat</th>\n",
       "      <th>start_lng</th>\n",
       "      <th>end_lat</th>\n",
       "      <th>end_lng</th>\n",
       "      <th>state</th>\n",
       "      <th>closest_city</th>\n",
       "    </tr>\n",
       "  </thead>\n",
       "  <tbody>\n",
       "    <tr>\n",
       "      <th>0</th>\n",
       "      <td>467664896</td>\n",
       "      <td>Fat Bike in the snow at GM</td>\n",
       "      <td>12557.8</td>\n",
       "      <td>4111.0</td>\n",
       "      <td>4193.0</td>\n",
       "      <td>419.4</td>\n",
       "      <td>Ride</td>\n",
       "      <td>2016-01-10 19:13:47+00:00</td>\n",
       "      <td>2016-01-10 12:13:47</td>\n",
       "      <td>America/Denver</td>\n",
       "      <td>...</td>\n",
       "      <td>NaN</td>\n",
       "      <td>7360660</td>\n",
       "      <td>a467664896</td>\n",
       "      <td>w`gqFnpx`SDzEkDYw@wBApDdBjBGlD~@~@u@pCgJdD_AdM...</td>\n",
       "      <td>39.69</td>\n",
       "      <td>-105.15</td>\n",
       "      <td>39.69</td>\n",
       "      <td>-105.15</td>\n",
       "      <td>Colorado</td>\n",
       "      <td>Lakewood</td>\n",
       "    </tr>\n",
       "    <tr>\n",
       "      <th>1</th>\n",
       "      <td>308543489</td>\n",
       "      <td>05/19/2015 Fruita, CO Horse Thief Bench</td>\n",
       "      <td>15941.8</td>\n",
       "      <td>3448.0</td>\n",
       "      <td>4356.0</td>\n",
       "      <td>322.0</td>\n",
       "      <td>Ride</td>\n",
       "      <td>2015-05-20 00:41:46+00:00</td>\n",
       "      <td>2015-05-19 18:41:46</td>\n",
       "      <td>America/Denver</td>\n",
       "      <td>...</td>\n",
       "      <td>148.0</td>\n",
       "      <td>113571</td>\n",
       "      <td>a308543489</td>\n",
       "      <td>scbnFjbgwSQjMzFhGnAzMJdEgBdBWtDpA`G|NnU`AxImAx...</td>\n",
       "      <td>39.17</td>\n",
       "      <td>-108.83</td>\n",
       "      <td>39.18</td>\n",
       "      <td>-108.83</td>\n",
       "      <td>Colorado</td>\n",
       "      <td>Fruita</td>\n",
       "    </tr>\n",
       "    <tr>\n",
       "      <th>2</th>\n",
       "      <td>432799746</td>\n",
       "      <td>Lunch Ride</td>\n",
       "      <td>77276.3</td>\n",
       "      <td>10158.0</td>\n",
       "      <td>15286.0</td>\n",
       "      <td>962.0</td>\n",
       "      <td>Ride</td>\n",
       "      <td>2015-11-14 19:21:32+00:00</td>\n",
       "      <td>2015-11-14 12:21:32</td>\n",
       "      <td>America/Denver</td>\n",
       "      <td>...</td>\n",
       "      <td>NaN</td>\n",
       "      <td>67365</td>\n",
       "      <td>a432799746</td>\n",
       "      <td>kf`sFhaiaS}KiBsAtFyI`ByeAjyBqBjNeJt@iC_EcGsAcn...</td>\n",
       "      <td>39.98</td>\n",
       "      <td>-105.24</td>\n",
       "      <td>39.98</td>\n",
       "      <td>-105.24</td>\n",
       "      <td>Colorado</td>\n",
       "      <td>Boulder</td>\n",
       "    </tr>\n",
       "    <tr>\n",
       "      <th>3</th>\n",
       "      <td>404750345</td>\n",
       "      <td>Truck lot commute</td>\n",
       "      <td>19340.0</td>\n",
       "      <td>2261.0</td>\n",
       "      <td>2404.0</td>\n",
       "      <td>25.9</td>\n",
       "      <td>Ride</td>\n",
       "      <td>2015-10-02 13:59:13+00:00</td>\n",
       "      <td>2015-10-02 07:59:13</td>\n",
       "      <td>America/Denver</td>\n",
       "      <td>...</td>\n",
       "      <td>NaN</td>\n",
       "      <td>606184</td>\n",
       "      <td>a404750345</td>\n",
       "      <td>akotFz{naSHwFdJRna@wh@nGeRbOyUdE{M|@qKaAmw@rXi...</td>\n",
       "      <td>40.22</td>\n",
       "      <td>-105.27</td>\n",
       "      <td>40.16</td>\n",
       "      <td>-105.10</td>\n",
       "      <td>Colorado</td>\n",
       "      <td>Lyons</td>\n",
       "    </tr>\n",
       "    <tr>\n",
       "      <th>4</th>\n",
       "      <td>308543507</td>\n",
       "      <td>05/20/2015 Fruita, CO Edge Loop</td>\n",
       "      <td>53577.9</td>\n",
       "      <td>14160.0</td>\n",
       "      <td>19563.0</td>\n",
       "      <td>1355.0</td>\n",
       "      <td>Ride</td>\n",
       "      <td>2015-05-20 15:55:46+00:00</td>\n",
       "      <td>2015-05-20 09:55:46</td>\n",
       "      <td>America/Denver</td>\n",
       "      <td>...</td>\n",
       "      <td>159.0</td>\n",
       "      <td>113571</td>\n",
       "      <td>a308543507</td>\n",
       "      <td>ez|nFrrnvSvRzu@aKhOsw@|FzDxFoKpZlMz_@qBpL}PrCk...</td>\n",
       "      <td>39.31</td>\n",
       "      <td>-108.71</td>\n",
       "      <td>39.31</td>\n",
       "      <td>-108.71</td>\n",
       "      <td>Colorado</td>\n",
       "      <td>Fruita</td>\n",
       "    </tr>\n",
       "  </tbody>\n",
       "</table>\n",
       "<p>5 rows × 40 columns</p>\n",
       "</div>"
      ],
      "text/plain": [
       "          id                                     name  distance  moving_time  \\\n",
       "0  467664896               Fat Bike in the snow at GM   12557.8       4111.0   \n",
       "1  308543489  05/19/2015 Fruita, CO Horse Thief Bench   15941.8       3448.0   \n",
       "2  432799746                               Lunch Ride   77276.3      10158.0   \n",
       "3  404750345                        Truck lot commute   19340.0       2261.0   \n",
       "4  308543507          05/20/2015 Fruita, CO Edge Loop   53577.9      14160.0   \n",
       "\n",
       "   elapsed_time  total_elevation_gain  type                 start_date  \\\n",
       "0        4193.0                 419.4  Ride  2016-01-10 19:13:47+00:00   \n",
       "1        4356.0                 322.0  Ride  2015-05-20 00:41:46+00:00   \n",
       "2       15286.0                 962.0  Ride  2015-11-14 19:21:32+00:00   \n",
       "3        2404.0                  25.9  Ride  2015-10-02 13:59:13+00:00   \n",
       "4       19563.0                1355.0  Ride  2015-05-20 15:55:46+00:00   \n",
       "\n",
       "      start_date_local        timezone     ...       max_heartrate  \\\n",
       "0  2016-01-10 12:13:47  America/Denver     ...                 NaN   \n",
       "1  2015-05-19 18:41:46  America/Denver     ...               148.0   \n",
       "2  2015-11-14 12:21:32  America/Denver     ...                 NaN   \n",
       "3  2015-10-02 07:59:13  America/Denver     ...                 NaN   \n",
       "4  2015-05-20 09:55:46  America/Denver     ...               159.0   \n",
       "\n",
       "   athlete_id      map_id                               map_summary_polyline  \\\n",
       "0     7360660  a467664896  w`gqFnpx`SDzEkDYw@wBApDdBjBGlD~@~@u@pCgJdD_AdM...   \n",
       "1      113571  a308543489  scbnFjbgwSQjMzFhGnAzMJdEgBdBWtDpA`G|NnU`AxImAx...   \n",
       "2       67365  a432799746  kf`sFhaiaS}KiBsAtFyI`ByeAjyBqBjNeJt@iC_EcGsAcn...   \n",
       "3      606184  a404750345  akotFz{naSHwFdJRna@wh@nGeRbOyUdE{M|@qKaAmw@rXi...   \n",
       "4      113571  a308543507  ez|nFrrnvSvRzu@aKhOsw@|FzDxFoKpZlMz_@qBpL}PrCk...   \n",
       "\n",
       "   start_lat  start_lng end_lat end_lng     state closest_city  \n",
       "0      39.69    -105.15   39.69 -105.15  Colorado     Lakewood  \n",
       "1      39.17    -108.83   39.18 -108.83  Colorado       Fruita  \n",
       "2      39.98    -105.24   39.98 -105.24  Colorado      Boulder  \n",
       "3      40.22    -105.27   40.16 -105.10  Colorado        Lyons  \n",
       "4      39.31    -108.71   39.31 -108.71  Colorado       Fruita  \n",
       "\n",
       "[5 rows x 40 columns]"
      ]
     },
     "execution_count": 167,
     "metadata": {},
     "output_type": "execute_result"
    }
   ],
   "source": [
    "df.head()"
   ]
  },
  {
   "cell_type": "code",
   "execution_count": 168,
   "metadata": {
    "collapsed": false
   },
   "outputs": [],
   "source": [
    "lats = df.start_lat.values"
   ]
  },
  {
   "cell_type": "code",
   "execution_count": 169,
   "metadata": {
    "collapsed": false
   },
   "outputs": [],
   "source": [
    "lngs = df.start_lng.values"
   ]
  },
  {
   "cell_type": "code",
   "execution_count": 305,
   "metadata": {
    "collapsed": false
   },
   "outputs": [],
   "source": [
    "from itertools import izip\n",
    "dsts = []\n",
    "for (lt, lg) in izip(lats, lngs):\n",
    "    dsts.append(np.sqrt((lats - lt)**2 + (lngs - lg)**2))"
   ]
  },
  {
   "cell_type": "code",
   "execution_count": 306,
   "metadata": {
    "collapsed": false
   },
   "outputs": [],
   "source": [
    "dsts = np.array(dsts)"
   ]
  },
  {
   "cell_type": "code",
   "execution_count": 307,
   "metadata": {
    "collapsed": false
   },
   "outputs": [
    {
     "data": {
      "text/plain": [
       "(9925, 9925)"
      ]
     },
     "execution_count": 307,
     "metadata": {},
     "output_type": "execute_result"
    }
   ],
   "source": [
    "dsts.shape"
   ]
  },
  {
   "cell_type": "code",
   "execution_count": 308,
   "metadata": {
    "collapsed": false
   },
   "outputs": [
    {
     "data": {
      "text/plain": [
       "array([[ 0.        ,  3.71655755,  0.30364453,  0.54341513],\n",
       "       [ 3.71655755,  0.        ,  3.68024456,  3.7116169 ],\n",
       "       [ 0.30364453,  3.68024456,  0.        ,  0.24186773],\n",
       "       [ 0.54341513,  3.7116169 ,  0.24186773,  0.        ]])"
      ]
     },
     "execution_count": 308,
     "metadata": {},
     "output_type": "execute_result"
    }
   ],
   "source": [
    "dsts[:4, :4]"
   ]
  },
  {
   "cell_type": "code",
   "execution_count": 309,
   "metadata": {
    "collapsed": false
   },
   "outputs": [
    {
     "data": {
      "text/plain": [
       "array([3835, 3760, 2508, 9735,  630, 2574, 5348, 6636, 6635, 6634])"
      ]
     },
     "execution_count": 309,
     "metadata": {},
     "output_type": "execute_result"
    }
   ],
   "source": [
    "np.argsort(dsts, axis=0)[1:11,0]"
   ]
  },
  {
   "cell_type": "code",
   "execution_count": 310,
   "metadata": {
    "collapsed": false
   },
   "outputs": [
    {
     "data": {
      "text/plain": [
       "array([[   0,    0],\n",
       "       [   0,  630],\n",
       "       [   0, 2508],\n",
       "       [   0, 2574],\n",
       "       [   0, 3760],\n",
       "       [   0, 3835],\n",
       "       [   0, 5348],\n",
       "       [   0, 9735],\n",
       "       [   1,    1],\n",
       "       [   1,  299]])"
      ]
     },
     "execution_count": 310,
     "metadata": {},
     "output_type": "execute_result"
    }
   ],
   "source": [
    "np.argwhere(dsts <= 0.01)[:10]"
   ]
  },
  {
   "cell_type": "code",
   "execution_count": 311,
   "metadata": {
    "collapsed": false
   },
   "outputs": [],
   "source": [
    "def make_indexer(arr):\n",
    "    indexer = {}\n",
    "    for pair in arr:\n",
    "        if pair[0] == pair[1]:\n",
    "            pass\n",
    "        else:\n",
    "            if pair[0] in indexer:\n",
    "                indexer[pair[0]].append(pair[1])\n",
    "            else:\n",
    "                indexer[pair[0]] = [pair[1]]\n",
    "    return indexer\n",
    "start_clusters = make_indexer(np.argwhere(dsts <= 0.01))"
   ]
  },
  {
   "cell_type": "code",
   "execution_count": 312,
   "metadata": {
    "collapsed": false
   },
   "outputs": [],
   "source": [
    "# start_clusters"
   ]
  },
  {
   "cell_type": "code",
   "execution_count": 313,
   "metadata": {
    "collapsed": false
   },
   "outputs": [],
   "source": [
    "poly1 = np.array(polyline.decode(df.ix[0, 'map_summary_polyline'])).flatten()"
   ]
  },
  {
   "cell_type": "code",
   "execution_count": 314,
   "metadata": {
    "collapsed": false
   },
   "outputs": [],
   "source": [
    "poly2 = np.array(polyline.decode(df.ix[630, 'map_summary_polyline'])).flatten()"
   ]
  },
  {
   "cell_type": "code",
   "execution_count": 315,
   "metadata": {
    "collapsed": false
   },
   "outputs": [
    {
     "data": {
      "text/plain": [
       "array([  39.69053, -105.15225])"
      ]
     },
     "execution_count": 315,
     "metadata": {},
     "output_type": "execute_result"
    }
   ],
   "source": [
    "poly1[-2:]"
   ]
  },
  {
   "cell_type": "code",
   "execution_count": 316,
   "metadata": {
    "collapsed": false
   },
   "outputs": [
    {
     "data": {
      "text/plain": [
       "array([  39.69034, -105.15237])"
      ]
     },
     "execution_count": 316,
     "metadata": {},
     "output_type": "execute_result"
    }
   ],
   "source": [
    "poly2[-2:]"
   ]
  },
  {
   "cell_type": "code",
   "execution_count": 319,
   "metadata": {
    "collapsed": false
   },
   "outputs": [],
   "source": [
    "if np.linalg.norm(np.subtract(poly1[-2:], poly2[-2:])) <= 0.01:\n",
    "    if len(poly1) >= len(poly2):\n",
    "        diff = len(poly1) - len(poly2)"
   ]
  },
  {
   "cell_type": "code",
   "execution_count": 329,
   "metadata": {
    "collapsed": false
   },
   "outputs": [],
   "source": [
    "poly2 = np.hstack((poly2, poly1[-diff:]))"
   ]
  },
  {
   "cell_type": "code",
   "execution_count": 331,
   "metadata": {
    "collapsed": false
   },
   "outputs": [
    {
     "data": {
      "text/plain": [
       "array([  39.68909, -105.1584 ,   39.68848, -105.1588 ,   39.68898,\n",
       "       -105.15729,   39.68939, -105.15727,   39.68811, -105.15692,\n",
       "         39.68818, -105.15641,   39.68862, -105.15632,   39.68849,\n",
       "       -105.15401,   39.68957, -105.15389,   39.69053, -105.15225])"
      ]
     },
     "execution_count": 331,
     "metadata": {},
     "output_type": "execute_result"
    }
   ],
   "source": [
    "poly1[-20:]"
   ]
  },
  {
   "cell_type": "code",
   "execution_count": 332,
   "metadata": {
    "collapsed": false
   },
   "outputs": [
    {
     "data": {
      "text/plain": [
       "array([  39.68813, -105.15648,   39.68862, -105.15629,   39.68854,\n",
       "       -105.154  ,   39.68949, -105.15394,   39.69063, -105.15223,\n",
       "         39.69034, -105.15237,   39.68862, -105.15632,   39.68849,\n",
       "       -105.15401,   39.68957, -105.15389,   39.69053, -105.15225])"
      ]
     },
     "execution_count": 332,
     "metadata": {},
     "output_type": "execute_result"
    }
   ],
   "source": [
    "poly2[-20:]"
   ]
  },
  {
   "cell_type": "code",
   "execution_count": 336,
   "metadata": {
    "collapsed": false
   },
   "outputs": [
    {
     "data": {
      "text/plain": [
       "0.099355386366310972"
      ]
     },
     "execution_count": 336,
     "metadata": {},
     "output_type": "execute_result"
    }
   ],
   "source": [
    "np.linalg.norm(np.subtract(poly1, poly2))"
   ]
  },
  {
   "cell_type": "code",
   "execution_count": 338,
   "metadata": {
    "collapsed": false
   },
   "outputs": [
    {
     "data": {
      "text/plain": [
       "42"
      ]
     },
     "execution_count": 338,
     "metadata": {},
     "output_type": "execute_result"
    }
   ],
   "source": [
    "len(poly1) / (8/2)"
   ]
  },
  {
   "cell_type": "code",
   "execution_count": null,
   "metadata": {
    "collapsed": true
   },
   "outputs": [],
   "source": []
  }
 ],
 "metadata": {
  "kernelspec": {
   "display_name": "Python [conda root]",
   "language": "python",
   "name": "conda-root-py"
  },
  "language_info": {
   "codemirror_mode": {
    "name": "ipython",
    "version": 2
   },
   "file_extension": ".py",
   "mimetype": "text/x-python",
   "name": "python",
   "nbconvert_exporter": "python",
   "pygments_lexer": "ipython2",
   "version": "2.7.13"
  }
 },
 "nbformat": 4,
 "nbformat_minor": 1
}
