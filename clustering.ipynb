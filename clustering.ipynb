{
 "cells": [
  {
   "cell_type": "code",
   "execution_count": 1,
   "metadata": {
    "collapsed": false
   },
   "outputs": [],
   "source": [
    "import matplotlib.pyplot as plt\n",
    "import pandas as pd\n",
    "import numpy as np\n",
    "from sklearn import metrics\n",
    "from sklearn.cluster import KMeans\n",
    "from sklearn.decomposition import PCA\n",
    "from sklearn.preprocessing import StandardScaler\n",
    "\n",
    "\n",
    "activities_df = pd.read_csv('data/activities_small.csv', encoding='utf-8')\n",
    "zero_dist_mask = activities_df['distance'] > 0\n",
    "activities_df = activities_df[zero_dist_mask]\n",
    "# activities_df.drop('index', 1, inplace=True)\n",
    "runs_df = activities_df[activities_df.type == 'Run']\n",
    "rides_df = activities_df[activities_df.type == 'Ride']"
   ]
  },
  {
   "cell_type": "code",
   "execution_count": 2,
   "metadata": {
    "collapsed": false,
    "scrolled": true
   },
   "outputs": [
    {
     "name": "stdout",
     "output_type": "stream",
     "text": [
      "<class 'pandas.core.frame.DataFrame'>\n",
      "Int64Index: 9908 entries, 0 to 9924\n",
      "Data columns (total 40 columns):\n",
      "id                        9908 non-null int64\n",
      "name                      9907 non-null object\n",
      "distance                  9908 non-null float64\n",
      "moving_time               9908 non-null float64\n",
      "elapsed_time              9908 non-null float64\n",
      "total_elevation_gain      9908 non-null float64\n",
      "type                      9908 non-null object\n",
      "start_date                9908 non-null object\n",
      "start_date_local          9908 non-null object\n",
      "timezone                  9908 non-null object\n",
      "achievement_count         9908 non-null int64\n",
      "kudos_count               9908 non-null int64\n",
      "comment_count             9908 non-null int64\n",
      "athlete_count             9908 non-null int64\n",
      "photo_count               9908 non-null int64\n",
      "total_photo_count         9908 non-null int64\n",
      "trainer                   9908 non-null bool\n",
      "commute                   9908 non-null bool\n",
      "manual                    9908 non-null bool\n",
      "private                   9908 non-null bool\n",
      "flagged                   9908 non-null bool\n",
      "average_speed             9908 non-null float64\n",
      "max_speed                 9908 non-null float64\n",
      "average_watts             7442 non-null float64\n",
      "max_watts                 2219 non-null float64\n",
      "weighted_average_watts    2215 non-null float64\n",
      "kilojoules                7408 non-null float64\n",
      "device_watts              9908 non-null bool\n",
      "has_heartrate             9908 non-null bool\n",
      "average_heartrate         3555 non-null float64\n",
      "max_heartrate             3555 non-null float64\n",
      "athlete_id                9908 non-null int64\n",
      "map_id                    9908 non-null object\n",
      "map_summary_polyline      9822 non-null object\n",
      "start_lat                 9908 non-null float64\n",
      "start_lng                 9908 non-null float64\n",
      "end_lat                   9875 non-null float64\n",
      "end_lng                   9875 non-null float64\n",
      "state                     9907 non-null object\n",
      "closest_city              9908 non-null object\n",
      "dtypes: bool(7), float64(16), int64(8), object(9)\n",
      "memory usage: 2.6+ MB\n"
     ]
    }
   ],
   "source": [
    "activities_df.info()"
   ]
  },
  {
   "cell_type": "markdown",
   "metadata": {},
   "source": [
    "Let us focus on the rides dataframe. First lets get out only activities in Colorado. This data frame is relatively small and consists of mostly my ride history. I will have way more once I have scraped more. These are just activities immediately available to me via the strava api."
   ]
  },
  {
   "cell_type": "code",
   "execution_count": 3,
   "metadata": {
    "collapsed": false
   },
   "outputs": [
    {
     "name": "stdout",
     "output_type": "stream",
     "text": [
      "(5902, 40)\n",
      "(1325, 40)\n"
     ]
    }
   ],
   "source": [
    "co_rides_mask = rides_df['state'] == 'Colorado'\n",
    "co_runs_mask = runs_df['state'] == 'Colorado'\n",
    "co_rides_df = rides_df[co_rides_mask].reset_index(drop=True).fillna(0)\n",
    "co_runs_df = runs_df[co_runs_mask].reset_index(drop=True).fillna(0)\n",
    "print co_rides_df.shape\n",
    "print co_runs_df.shape"
   ]
  },
  {
   "cell_type": "markdown",
   "metadata": {},
   "source": [
    "Now it's time to make clusters of rides with same general starting latitude and longitude, ending latitude and longitude, distance and total elevation gain."
   ]
  },
  {
   "cell_type": "code",
   "execution_count": 106,
   "metadata": {
    "collapsed": false
   },
   "outputs": [],
   "source": [
    "# X = co_rides_df[['distance', 'total_elevation_gain', 'start_lat', 'start_lng']].values\n",
    "X = co_runs_df[['distance', 'total_elevation_gain', 'start_lat', 'start_lng']].values"
   ]
  },
  {
   "cell_type": "code",
   "execution_count": 107,
   "metadata": {
    "collapsed": false
   },
   "outputs": [],
   "source": [
    "k=10"
   ]
  },
  {
   "cell_type": "code",
   "execution_count": 108,
   "metadata": {
    "collapsed": false
   },
   "outputs": [
    {
     "data": {
      "image/png": "[encoded data removed]",
      "text/plain": [
       "<matplotlib.figure.Figure at 0x117035850>"
      ]
     },
     "metadata": {},
     "output_type": "display_data"
    }
   ],
   "source": [
    "from sklearn.cluster import KMeans\n",
    "ncluster_list = range(1,16)\n",
    "\n",
    "def kmean_score(nclust):\n",
    "    km = KMeans(nclust)\n",
    "    km.fit(X)\n",
    "    rss = -km.score(X)\n",
    "    return rss\n",
    "scores = [kmean_score(i) for i in range(1,16)]\n",
    "plt.plot(range(1,16), scores)\n",
    "plt.xlabel('K')\n",
    "plt.ylabel('RSS')\n",
    "plt.title('RSS versus K')\n",
    "plt.show()"
   ]
  },
  {
   "cell_type": "code",
   "execution_count": 109,
   "metadata": {
    "collapsed": false
   },
   "outputs": [
    {
     "data": {
      "image/png": "[encoded data removed]",
      "text/plain": [
       "<matplotlib.figure.Figure at 0x117160310>"
      ]
     },
     "metadata": {},
     "output_type": "display_data"
    }
   ],
   "source": [
    "n_samples, n_features = X.shape\n",
    "def get_silhouette_score(estimator):\n",
    "    km = estimator\n",
    "    km.fit(X)\n",
    "    sil_avg = metrics.silhouette_score(X, km.labels_)\n",
    "    return sil_avg\n",
    "\n",
    "def get_estimators(n):\n",
    "    estimators = [KMeans(init='k-means++', n_clusters=n, n_init=10),\n",
    "                   KMeans(init='random', n_clusters=n, n_init=10)]\n",
    "    return estimators\n",
    "\n",
    "scores_arr = []\n",
    "for n in range(2, 40):\n",
    "    sil_scores = [get_silhouette_score(estimator) for estimator in get_estimators(n)]\n",
    "    scores_arr.append(sil_scores)\n",
    "\n",
    "plt.plot(range(2, 40), np.array(scores_arr)[:, 0])\n",
    "plt.plot(range(2, 40), np.array(scores_arr)[:, 1])    \n",
    "plt.xlabel('K')\n",
    "plt.ylabel('Silhouette Score')\n",
    "plt.title('Silhouette Score vs K')\n",
    "plt.legend(['kmeans++', 'random'])\n",
    "plt.show()\n"
   ]
  },
  {
   "cell_type": "markdown",
   "metadata": {},
   "source": [
    "This method of evaluating the number of clusters always leads to improbable numbers of clusters. With 676 rides in the dataframe(most being mine) it is to be expected that there should be more than 12-16 rides which is number i get which has the silhoutte score on average."
   ]
  },
  {
   "cell_type": "code",
   "execution_count": 110,
   "metadata": {
    "collapsed": false
   },
   "outputs": [],
   "source": [
    "X = StandardScaler().fit_transform(X)"
   ]
  },
  {
   "cell_type": "code",
   "execution_count": 115,
   "metadata": {
    "collapsed": false
   },
   "outputs": [
    {
     "data": {
      "image/png": "[encoded data removed]",
      "text/plain": [
       "<matplotlib.figure.Figure at 0x117699050>"
      ]
     },
     "metadata": {},
     "output_type": "display_data"
    }
   ],
   "source": [
    "reduced_data = PCA(n_components=2).fit_transform(X)\n",
    "kmeans = KMeans(init='random', n_clusters=50, n_init=10).fit(reduced_data)\n",
    "\n",
    "# Step size of the mesh. Decrease to increase the quality of the VQ.\n",
    "h = .02     # point in the mesh [x_min, x_max]x[y_min, y_max].\n",
    "\n",
    "# Plot the decision boundary. For that, we will assign a color to each\n",
    "x_min, x_max = reduced_data[:, 0].min() - 1, reduced_data[:, 0].max() + 1\n",
    "y_min, y_max = reduced_data[:, 1].min() - 1, reduced_data[:, 1].max() + 1\n",
    "xx, yy = np.meshgrid(np.arange(x_min, x_max, h), np.arange(y_min, y_max, h))\n",
    "\n",
    "# Obtain labels for each point in mesh. Use last trained model.\n",
    "Z = kmeans.predict(np.c_[xx.ravel(), yy.ravel()])\n",
    "\n",
    "# Put the result into a color plot\n",
    "Z = Z.reshape(xx.shape)\n",
    "plt.figure(1)\n",
    "plt.clf()\n",
    "plt.imshow(Z, interpolation='nearest',\n",
    "           extent=(xx.min(), xx.max(), yy.min(), yy.max()),\n",
    "           cmap=plt.cm.Paired,\n",
    "           aspect='auto', origin='lower')\n",
    "\n",
    "plt.plot(reduced_data[:, 0], reduced_data[:, 1], 'k.', markersize=2)\n",
    "# Plot the centroids as a white X\n",
    "centroids = kmeans.cluster_centers_\n",
    "plt.scatter(centroids[:, 0], centroids[:, 1],\n",
    "            marker='x', s=169, linewidths=3,\n",
    "            cmap='prism', zorder=10, alpha=.01)\n",
    "plt.title('K-means clustering on the rides dataset (PCA-reduced data)\\n'\n",
    "          'Centroids are marked with white cross')\n",
    "plt.xlim(x_min, x_max)\n",
    "plt.ylim(y_min, y_max)\n",
    "plt.xticks(())\n",
    "plt.yticks(())\n",
    "plt.show()"
   ]
  },
  {
   "cell_type": "code",
   "execution_count": 116,
   "metadata": {
    "collapsed": false
   },
   "outputs": [
    {
     "data": {
      "text/html": [
       "<div>\n",
       "<table border=\"1\" class=\"dataframe\">\n",
       "  <thead>\n",
       "    <tr style=\"text-align: right;\">\n",
       "      <th></th>\n",
       "      <th>id</th>\n",
       "      <th>name</th>\n",
       "      <th>distance</th>\n",
       "      <th>moving_time</th>\n",
       "      <th>elapsed_time</th>\n",
       "      <th>total_elevation_gain</th>\n",
       "      <th>type</th>\n",
       "      <th>start_date</th>\n",
       "      <th>start_date_local</th>\n",
       "      <th>timezone</th>\n",
       "      <th>...</th>\n",
       "      <th>athlete_id</th>\n",
       "      <th>map_id</th>\n",
       "      <th>map_summary_polyline</th>\n",
       "      <th>start_lat</th>\n",
       "      <th>start_lng</th>\n",
       "      <th>end_lat</th>\n",
       "      <th>end_lng</th>\n",
       "      <th>state</th>\n",
       "      <th>closest_city</th>\n",
       "      <th>label</th>\n",
       "    </tr>\n",
       "  </thead>\n",
       "  <tbody>\n",
       "    <tr>\n",
       "      <th>0</th>\n",
       "      <td>584843292</td>\n",
       "      <td>Snot rockets are hard when you have a cold!</td>\n",
       "      <td>11523.2</td>\n",
       "      <td>5148.0</td>\n",
       "      <td>6493.0</td>\n",
       "      <td>336.2</td>\n",
       "      <td>Run</td>\n",
       "      <td>2016-05-22 17:58:10+00:00</td>\n",
       "      <td>2016-05-22 11:58:10</td>\n",
       "      <td>America/Denver</td>\n",
       "      <td>...</td>\n",
       "      <td>13529988</td>\n",
       "      <td>a584843292</td>\n",
       "      <td>_}apF`tdbSmBb@aAiDyKhLf@`Bq@v@sATuA}FmDbAqDrCN...</td>\n",
       "      <td>39.50</td>\n",
       "      <td>-105.38</td>\n",
       "      <td>39.50</td>\n",
       "      <td>-105.38</td>\n",
       "      <td>Colorado</td>\n",
       "      <td>Morrison</td>\n",
       "      <td>21</td>\n",
       "    </tr>\n",
       "    <tr>\n",
       "      <th>1</th>\n",
       "      <td>607649832</td>\n",
       "      <td>Sunday Funday with boo</td>\n",
       "      <td>10130.2</td>\n",
       "      <td>6141.0</td>\n",
       "      <td>6491.0</td>\n",
       "      <td>335.0</td>\n",
       "      <td>Run</td>\n",
       "      <td>2016-06-12 20:21:44+00:00</td>\n",
       "      <td>2016-06-12 14:21:44</td>\n",
       "      <td>America/Denver</td>\n",
       "      <td>...</td>\n",
       "      <td>7952100</td>\n",
       "      <td>a607649832</td>\n",
       "      <td>m~yrFbb}bSQeBwAXnAeIsDsFDwBaCv@sAyChB|A|GgOiFq...</td>\n",
       "      <td>39.95</td>\n",
       "      <td>-105.50</td>\n",
       "      <td>39.95</td>\n",
       "      <td>-105.50</td>\n",
       "      <td>Colorado</td>\n",
       "      <td>Nederland</td>\n",
       "      <td>15</td>\n",
       "    </tr>\n",
       "    <tr>\n",
       "      <th>2</th>\n",
       "      <td>373030991</td>\n",
       "      <td>All about that bass</td>\n",
       "      <td>9725.7</td>\n",
       "      <td>2761.0</td>\n",
       "      <td>2761.0</td>\n",
       "      <td>27.6</td>\n",
       "      <td>Run</td>\n",
       "      <td>2015-08-20 00:59:17+00:00</td>\n",
       "      <td>2015-08-19 18:59:17</td>\n",
       "      <td>America/Denver</td>\n",
       "      <td>...</td>\n",
       "      <td>200225</td>\n",
       "      <td>a373030991</td>\n",
       "      <td>ondqFdsr_SvMQRrFccBEi@x[wIbA[xS{Hh@}@|EohATuCz...</td>\n",
       "      <td>39.68</td>\n",
       "      <td>-104.96</td>\n",
       "      <td>39.68</td>\n",
       "      <td>-104.96</td>\n",
       "      <td>Colorado</td>\n",
       "      <td>Glendale</td>\n",
       "      <td>44</td>\n",
       "    </tr>\n",
       "    <tr>\n",
       "      <th>3</th>\n",
       "      <td>148373648</td>\n",
       "      <td>epic day.</td>\n",
       "      <td>26564.5</td>\n",
       "      <td>11462.0</td>\n",
       "      <td>11867.0</td>\n",
       "      <td>883.8</td>\n",
       "      <td>Run</td>\n",
       "      <td>2014-06-01 18:06:10+00:00</td>\n",
       "      <td>2014-06-01 12:06:10</td>\n",
       "      <td>America/Denver</td>\n",
       "      <td>...</td>\n",
       "      <td>2520729</td>\n",
       "      <td>a148373648</td>\n",
       "      <td>uepqFjkcbSd@vBgF[|FbJkHeF}DtA|DaPsJ~Q`AfEpEDaH...</td>\n",
       "      <td>39.74</td>\n",
       "      <td>-105.37</td>\n",
       "      <td>39.74</td>\n",
       "      <td>-105.37</td>\n",
       "      <td>Colorado</td>\n",
       "      <td>Idaho Springs</td>\n",
       "      <td>22</td>\n",
       "    </tr>\n",
       "    <tr>\n",
       "      <th>4</th>\n",
       "      <td>451412117</td>\n",
       "      <td>Morning Run</td>\n",
       "      <td>25647.3</td>\n",
       "      <td>17173.0</td>\n",
       "      <td>22386.0</td>\n",
       "      <td>1653.0</td>\n",
       "      <td>Run</td>\n",
       "      <td>2015-12-16 17:22:22+00:00</td>\n",
       "      <td>2015-12-16 10:22:22</td>\n",
       "      <td>America/Denver</td>\n",
       "      <td>...</td>\n",
       "      <td>7952100</td>\n",
       "      <td>a451412117</td>\n",
       "      <td>}lcsFx_raS_B~CEnRdE`Wk@~@iHu@sLfKqFc@kBzD{KcD{...</td>\n",
       "      <td>40.00</td>\n",
       "      <td>-105.28</td>\n",
       "      <td>40.00</td>\n",
       "      <td>-105.28</td>\n",
       "      <td>Colorado</td>\n",
       "      <td>Boulder</td>\n",
       "      <td>22</td>\n",
       "    </tr>\n",
       "  </tbody>\n",
       "</table>\n",
       "<p>5 rows × 41 columns</p>\n",
       "</div>"
      ],
      "text/plain": [
       "          id                                          name  distance  \\\n",
       "0  584843292  Snot rockets are hard when you have a cold!    11523.2   \n",
       "1  607649832                        Sunday Funday with boo   10130.2   \n",
       "2  373030991                           All about that bass    9725.7   \n",
       "3  148373648                                    epic day.    26564.5   \n",
       "4  451412117                                   Morning Run   25647.3   \n",
       "\n",
       "   moving_time  elapsed_time  total_elevation_gain type  \\\n",
       "0       5148.0        6493.0                 336.2  Run   \n",
       "1       6141.0        6491.0                 335.0  Run   \n",
       "2       2761.0        2761.0                  27.6  Run   \n",
       "3      11462.0       11867.0                 883.8  Run   \n",
       "4      17173.0       22386.0                1653.0  Run   \n",
       "\n",
       "                  start_date     start_date_local        timezone  ...   \\\n",
       "0  2016-05-22 17:58:10+00:00  2016-05-22 11:58:10  America/Denver  ...    \n",
       "1  2016-06-12 20:21:44+00:00  2016-06-12 14:21:44  America/Denver  ...    \n",
       "2  2015-08-20 00:59:17+00:00  2015-08-19 18:59:17  America/Denver  ...    \n",
       "3  2014-06-01 18:06:10+00:00  2014-06-01 12:06:10  America/Denver  ...    \n",
       "4  2015-12-16 17:22:22+00:00  2015-12-16 10:22:22  America/Denver  ...    \n",
       "\n",
       "   athlete_id      map_id                               map_summary_polyline  \\\n",
       "0    13529988  a584843292  _}apF`tdbSmBb@aAiDyKhLf@`Bq@v@sATuA}FmDbAqDrCN...   \n",
       "1     7952100  a607649832  m~yrFbb}bSQeBwAXnAeIsDsFDwBaCv@sAyChB|A|GgOiFq...   \n",
       "2      200225  a373030991  ondqFdsr_SvMQRrFccBEi@x[wIbA[xS{Hh@}@|EohATuCz...   \n",
       "3     2520729  a148373648  uepqFjkcbSd@vBgF[|FbJkHeF}DtA|DaPsJ~Q`AfEpEDaH...   \n",
       "4     7952100  a451412117  }lcsFx_raS_B~CEnRdE`Wk@~@iHu@sLfKqFc@kBzD{KcD{...   \n",
       "\n",
       "   start_lat  start_lng  end_lat end_lng     state   closest_city label  \n",
       "0      39.50    -105.38    39.50 -105.38  Colorado       Morrison    21  \n",
       "1      39.95    -105.50    39.95 -105.50  Colorado      Nederland    15  \n",
       "2      39.68    -104.96    39.68 -104.96  Colorado       Glendale    44  \n",
       "3      39.74    -105.37    39.74 -105.37  Colorado  Idaho Springs    22  \n",
       "4      40.00    -105.28    40.00 -105.28  Colorado        Boulder    22  \n",
       "\n",
       "[5 rows x 41 columns]"
      ]
     },
     "execution_count": 116,
     "metadata": {},
     "output_type": "execute_result"
    }
   ],
   "source": [
    "from clustering import *\n",
    "from setup import *\n",
    "co_runs_df, co_rides_df, co_runs_clusterer, co_rides_cluster = get_labels(co_runs_df, co_rides_df)\n",
    "# n_labels = len(co_rides_df.label.unique())\n",
    "n_labels = len(co_runs_df.label.unique())\n",
    "# athlete_ids = np.array(sorted(co_rides_df.athlete_id.unique()))\n",
    "athlete_ids = np.array(sorted(co_runs_df.athlete_id.unique()))\n",
    "n_athletes = len(athlete_ids)\n",
    "# co_runs_df = add_closest_city_feature(co_runs_df)\n",
    "# co_rides_df = add_closest_city_feature(co_rides_df)\n",
    "# co_rides_df.head()\n",
    "co_runs_df.head()"
   ]
  },
  {
   "cell_type": "code",
   "execution_count": 117,
   "metadata": {
    "collapsed": false
   },
   "outputs": [
    {
     "data": {
      "image/png": "[encoded data removed]",
      "text/plain": [
       "<matplotlib.figure.Figure at 0x117b27b50>"
      ]
     },
     "metadata": {},
     "output_type": "display_data"
    }
   ],
   "source": [
    "# co_rides_df['label'].hist(bins=50)\n",
    "co_runs_df['label'].hist(bins=50)\n",
    "plt.show()"
   ]
  },
  {
   "cell_type": "code",
   "execution_count": 118,
   "metadata": {
    "collapsed": false
   },
   "outputs": [],
   "source": [
    "# co_rides_df.groupby(['label', 'closest_city']).count()['id']"
   ]
  },
  {
   "cell_type": "markdown",
   "metadata": {},
   "source": [
    "The following will be explicitly for the rides dataframe. I am going to assume all methods will work on the runs_df as well."
   ]
  },
  {
   "cell_type": "code",
   "execution_count": 119,
   "metadata": {
    "collapsed": false
   },
   "outputs": [],
   "source": [
    "# ath_labels = co_rides_df.groupby(['athlete_id', 'label']).count()['id'].to_dict()\n",
    "ath_labels = co_runs_df.groupby(['athlete_id', 'label']).count()['id'].to_dict()"
   ]
  },
  {
   "cell_type": "code",
   "execution_count": 120,
   "metadata": {
    "collapsed": false,
    "scrolled": true
   },
   "outputs": [],
   "source": [
    "# ath_labels"
   ]
  },
  {
   "cell_type": "code",
   "execution_count": 121,
   "metadata": {
    "collapsed": false
   },
   "outputs": [],
   "source": [
    "ratings = np.zeros((n_athletes, n_labels))\n",
    "for k,v in ath_labels.iteritems():\n",
    "    ratings[np.where(athlete_ids==k[0])[0][0], k[1]] = v"
   ]
  },
  {
   "cell_type": "code",
   "execution_count": 122,
   "metadata": {
    "collapsed": false
   },
   "outputs": [
    {
     "data": {
      "text/plain": [
       "array([[ 0.,  0.,  0., ...,  0.,  0.,  0.],\n",
       "       [ 0.,  0.,  0., ...,  0.,  0.,  0.],\n",
       "       [ 0.,  0.,  0., ...,  0.,  0.,  0.],\n",
       "       ..., \n",
       "       [ 0.,  0.,  0., ...,  0.,  0.,  1.],\n",
       "       [ 0.,  0.,  0., ...,  0.,  0.,  0.],\n",
       "       [ 0.,  0.,  0., ...,  0.,  0.,  0.]])"
      ]
     },
     "execution_count": 122,
     "metadata": {},
     "output_type": "execute_result"
    }
   ],
   "source": [
    "np.set_printoptions(threshold=5)\n",
    "ratings"
   ]
  },
  {
   "cell_type": "raw",
   "metadata": {},
   "source": [
    "As we can see below my ratings matrix is relatively sparse. This is due to the fact that it is a small data set and doesn't have a lot of ratings (most of the ratings being my own rides)"
   ]
  },
  {
   "cell_type": "code",
   "execution_count": 123,
   "metadata": {
    "collapsed": false
   },
   "outputs": [
    {
     "name": "stdout",
     "output_type": "stream",
     "text": [
      "Sparsity: 9.38%\n"
     ]
    }
   ],
   "source": [
    "sparsity = float(len(ratings.nonzero()[0]))\n",
    "sparsity /= (ratings.shape[0] * ratings.shape[1])\n",
    "sparsity *= 100\n",
    "print 'Sparsity: {:4.2f}%'.format(sparsity)"
   ]
  },
  {
   "cell_type": "markdown",
   "metadata": {},
   "source": [
    "Most of this code is from ethan rosenthals blog at: http://blog.ethanrosenthal.com/2015/11/02/intro-to-collaborative-filtering/. More to add on this later...."
   ]
  },
  {
   "cell_type": "code",
   "execution_count": 124,
   "metadata": {
    "collapsed": false
   },
   "outputs": [],
   "source": [
    "# gordons_rides.groupby('label').count()['id'].sort_values('index', ascending=0).hist(bins=15)\n",
    "# plt.show()"
   ]
  },
  {
   "cell_type": "code",
   "execution_count": 125,
   "metadata": {
    "collapsed": false
   },
   "outputs": [],
   "source": [
    "# gordons_rides = co_rides_df.loc[co_rides_df.athlete_id==7202879, :]\n",
    "# data = gordons_rides.groupby('label').count()['id'].sort_values('index', ascending=0).values\n",
    "\n",
    "# from scipy.optimize import curve_fit\n",
    "# from scipy.misc import factorial\n",
    "\n",
    "\n",
    "# # get poisson deviated random numbers\n",
    "# # data = np.random.poisson(2, 1000)\n",
    "\n",
    "# # the bins should be of integer width, because poisson is an integer distribution\n",
    "# entries, bin_edges, patches = plt.hist(data, bins=12, range=[-0.5, 15], normed=True)\n",
    "\n",
    "# # calculate binmiddles\n",
    "# bin_middles = 0.5*(bin_edges[1:] + bin_edges[:-1])\n",
    "\n",
    "# # poisson function, parameter lamb is the fit parameter\n",
    "# def poisson(k, lamb):\n",
    "#     return (lamb**k/factorial(k)) * np.exp(-lamb)\n",
    "\n",
    "# # fit with curve_fit\n",
    "# parameters, cov_matrix = curve_fit(poisson, bin_middles, entries) \n",
    "\n",
    "# # plot poisson-deviation with fitted parameter\n",
    "# x_plot = np.linspace(0, 20, 1000)\n",
    "\n",
    "# plt.plot(x_plot, poisson(x_plot, *parameters), 'r-', lw=2)\n",
    "# plt.show()\n",
    "# lam = parameters[0]"
   ]
  },
  {
   "cell_type": "code",
   "execution_count": 126,
   "metadata": {
    "collapsed": false
   },
   "outputs": [],
   "source": [
    "# # randomized ratings matrix. Spoofed to remove spacity\n",
    "# ratings = np.random.poisson(lam=lam, size=(n_athletes, n_labels))\n",
    "\n",
    "# sparsity = float(len(ratings.nonzero()[0]))\n",
    "# sparsity /= (ratings.shape[0] * ratings.shape[1])\n",
    "# sparsity *= 100\n",
    "# print 'Sparsity: {:4.2f}%'.format(sparsity)\n",
    "\n",
    "# ratings"
   ]
  },
  {
   "cell_type": "code",
   "execution_count": 127,
   "metadata": {
    "collapsed": true
   },
   "outputs": [],
   "source": [
    "def train_test_split(ratings):\n",
    "    test = np.zeros(ratings.shape)\n",
    "    train = ratings.copy()\n",
    "    for user in xrange(ratings.shape[0]):\n",
    "        test_ratings = np.random.choice(ratings[user, :].nonzero()[0], \n",
    "                                        size=10, \n",
    "                                        replace=True)\n",
    "        train[user, test_ratings] = 0.\n",
    "        test[user, test_ratings] = ratings[user, test_ratings]\n",
    "        \n",
    "    # Test and training are truly disjoint\n",
    "    assert(np.all((train * test) == 0)) \n",
    "    return train, test"
   ]
  },
  {
   "cell_type": "markdown",
   "metadata": {},
   "source": [
    "Can't do a train test split with data till there are more ratings per user. When I use the bigger data set this shouldn't be a problem. For the following collaborative filtering model, I will use the entire ratings matrix."
   ]
  },
  {
   "cell_type": "code",
   "execution_count": 128,
   "metadata": {
    "collapsed": false
   },
   "outputs": [],
   "source": [
    "train, test = train_test_split(ratings)"
   ]
  },
  {
   "cell_type": "code",
   "execution_count": 129,
   "metadata": {
    "collapsed": true
   },
   "outputs": [],
   "source": [
    "def fast_similarity(ratings, kind='user', epsilon=1e-9):\n",
    "    # epsilon -> small number for handling dived-by-zero errors\n",
    "    if kind == 'user':\n",
    "        sim = ratings.dot(ratings.T) + epsilon\n",
    "    elif kind == 'item':\n",
    "        sim = ratings.T.dot(ratings) + epsilon\n",
    "    norms = np.array([np.sqrt(np.diagonal(sim))])\n",
    "    return (sim / norms / norms.T)"
   ]
  },
  {
   "cell_type": "code",
   "execution_count": 130,
   "metadata": {
    "collapsed": false
   },
   "outputs": [
    {
     "name": "stdout",
     "output_type": "stream",
     "text": [
      "[[  1.00000000e+00   1.01180582e-01   1.93746065e-01   8.21994936e-11]\n",
      " [  1.01180582e-01   1.00000000e+00   3.48155312e-01   1.23091491e-01]\n",
      " [  1.93746065e-01   3.48155312e-01   1.00000000e+00   1.17851130e-01]\n",
      " [  8.21994936e-11   1.23091491e-01   1.17851130e-01   1.00000000e+00]]\n"
     ]
    }
   ],
   "source": [
    "user_similarity = fast_similarity(ratings, kind='user')\n",
    "item_similarity = fast_similarity(ratings, kind='item')\n",
    "print item_similarity[:4, :4]"
   ]
  },
  {
   "cell_type": "code",
   "execution_count": 131,
   "metadata": {
    "collapsed": true
   },
   "outputs": [],
   "source": [
    "def predict_fast_simple(ratings, similarity, kind='user'):\n",
    "    if kind == 'user':\n",
    "        return similarity.dot(ratings) / np.array([np.abs(similarity).sum(axis=1)]).T\n",
    "    elif kind == 'item':\n",
    "        return ratings.dot(similarity) / np.array([np.abs(similarity).sum(axis=1)])"
   ]
  },
  {
   "cell_type": "code",
   "execution_count": 132,
   "metadata": {
    "collapsed": true
   },
   "outputs": [],
   "source": [
    "from sklearn.metrics import mean_squared_error\n",
    "\n",
    "def get_mse(pred, actual):\n",
    "    # Ignore nonzero terms.\n",
    "    pred = pred[actual.nonzero()].flatten()\n",
    "    actual = actual[actual.nonzero()].flatten()\n",
    "    return mean_squared_error(pred, actual)"
   ]
  },
  {
   "cell_type": "code",
   "execution_count": 133,
   "metadata": {
    "collapsed": false
   },
   "outputs": [
    {
     "name": "stdout",
     "output_type": "stream",
     "text": [
      "User-based CF MSE: 2.51431534371\n",
      "Item-based CF MSE: 2.30430209806\n"
     ]
    }
   ],
   "source": [
    "item_prediction = predict_fast_simple(train, item_similarity, kind='item')\n",
    "user_prediction = predict_fast_simple(train, user_similarity, kind='user')\n",
    "\n",
    "print 'User-based CF MSE: ' + str(get_mse(user_prediction, test))\n",
    "print 'Item-based CF MSE: ' + str(get_mse(item_prediction, test))"
   ]
  },
  {
   "cell_type": "code",
   "execution_count": 134,
   "metadata": {
    "collapsed": true
   },
   "outputs": [],
   "source": [
    "def predict_topk(ratings, similarity, kind='user', k=40):\n",
    "    pred = np.zeros(ratings.shape)\n",
    "    if kind == 'user':\n",
    "        for i in xrange(ratings.shape[0]):\n",
    "            top_k_users = [np.argsort(similarity[:,i])[:-k-1:-1]]\n",
    "            for j in xrange(ratings.shape[1]):\n",
    "                pred[i, j] = similarity[i, :][top_k_users].dot(ratings[:, j][top_k_users]) \n",
    "                pred[i, j] /= np.sum(np.abs(similarity[i, :][top_k_users]))\n",
    "    if kind == 'item':\n",
    "        for j in xrange(ratings.shape[1]):\n",
    "            top_k_items = [np.argsort(similarity[:,j])[:-k-1:-1]]\n",
    "            for i in xrange(ratings.shape[0]):\n",
    "                pred[i, j] = similarity[j, :][top_k_items].dot(ratings[i, :][top_k_items].T) \n",
    "                pred[i, j] /= np.sum(np.abs(similarity[j, :][top_k_items]))        \n",
    "    \n",
    "    return pred"
   ]
  },
  {
   "cell_type": "code",
   "execution_count": 135,
   "metadata": {
    "collapsed": false
   },
   "outputs": [
    {
     "name": "stdout",
     "output_type": "stream",
     "text": [
      "Top-k User-based CF MSE: 2.35012566052\n",
      "Top-k Item-based CF MSE: 2.28182474732\n"
     ]
    }
   ],
   "source": [
    "pred = predict_topk(train, user_similarity, kind='user', k=40)\n",
    "print 'Top-k User-based CF MSE: ' + str(get_mse(pred, test))\n",
    "\n",
    "pred = predict_topk(train, item_similarity, kind='item', k=40)\n",
    "print 'Top-k Item-based CF MSE: ' + str(get_mse(pred, test))"
   ]
  },
  {
   "cell_type": "code",
   "execution_count": 136,
   "metadata": {
    "collapsed": true
   },
   "outputs": [],
   "source": [
    "k_array = [5, 15, 30, 50, 100, 200]\n",
    "user_train_mse = []\n",
    "user_test_mse = []\n",
    "item_test_mse = []\n",
    "item_train_mse = []\n",
    "\n",
    "def get_mse(pred, actual):\n",
    "    pred = pred[actual.nonzero()].flatten()\n",
    "    actual = actual[actual.nonzero()].flatten()\n",
    "    return mean_squared_error(pred, actual)\n",
    "\n",
    "for k in k_array:\n",
    "    user_pred = predict_topk(train, user_similarity, kind='user', k=k)\n",
    "    item_pred = predict_topk(train, item_similarity, kind='item', k=k)\n",
    "    \n",
    "    user_train_mse += [get_mse(user_pred, train)]\n",
    "    user_test_mse += [get_mse(user_pred, test)]\n",
    "    \n",
    "    item_train_mse += [get_mse(item_pred, train)]\n",
    "    item_test_mse += [get_mse(item_pred, test)]  "
   ]
  },
  {
   "cell_type": "code",
   "execution_count": 137,
   "metadata": {
    "collapsed": false
   },
   "outputs": [
    {
     "data": {
      "image/png": "[encoded data removed]",
      "text/plain": [
       "<matplotlib.figure.Figure at 0x11948e450>"
      ]
     },
     "metadata": {},
     "output_type": "display_data"
    }
   ],
   "source": [
    "%matplotlib inline\n",
    "import matplotlib.pyplot as plt\n",
    "import seaborn as sns\n",
    "sns.set()\n",
    "\n",
    "pal = sns.color_palette(\"Set2\", 2)\n",
    "\n",
    "plt.figure(figsize=(8, 8))\n",
    "plt.plot(k_array, user_train_mse, c=pal[0], label='User-based train', alpha=0.5, linewidth=5)\n",
    "plt.plot(k_array, user_test_mse, c=pal[0], label='User-based test', linewidth=5)\n",
    "plt.plot(k_array, item_train_mse, c=pal[1], label='Item-based train', alpha=0.5, linewidth=5)\n",
    "plt.plot(k_array, item_test_mse, c=pal[1], label='Item-based test', linewidth=5)\n",
    "plt.legend(loc='best', fontsize=20)\n",
    "plt.xticks(fontsize=16);\n",
    "plt.yticks(fontsize=16);\n",
    "plt.xlabel('k', fontsize=30);\n",
    "plt.ylabel('MSE', fontsize=30);"
   ]
  },
  {
   "cell_type": "code",
   "execution_count": 138,
   "metadata": {
    "collapsed": true
   },
   "outputs": [],
   "source": [
    "def predict_nobias(ratings, similarity, kind='user'):\n",
    "    if kind == 'user':\n",
    "        user_bias = ratings.mean(axis=1)\n",
    "        ratings = (ratings - user_bias[:, np.newaxis]).copy()\n",
    "        pred = similarity.dot(ratings) / np.array([np.abs(similarity).sum(axis=1)]).T\n",
    "        pred += user_bias[:, np.newaxis]\n",
    "    elif kind == 'item':\n",
    "        item_bias = ratings.mean(axis=0)\n",
    "        ratings = (ratings - item_bias[np.newaxis, :]).copy()\n",
    "        pred = ratings.dot(similarity) / np.array([np.abs(similarity).sum(axis=1)])\n",
    "        pred += item_bias[np.newaxis, :]\n",
    "        \n",
    "    return pred"
   ]
  },
  {
   "cell_type": "code",
   "execution_count": 139,
   "metadata": {
    "collapsed": false
   },
   "outputs": [
    {
     "name": "stdout",
     "output_type": "stream",
     "text": [
      "Bias-subtracted User-based CF MSE: 2.25152951538\n",
      "Bias-subtracted Item-based CF MSE: 2.28600303359\n"
     ]
    }
   ],
   "source": [
    "user_pred = predict_nobias(train, user_similarity, kind='user')\n",
    "print 'Bias-subtracted User-based CF MSE: ' + str(get_mse(user_pred, test))\n",
    "\n",
    "item_pred = predict_nobias(train, item_similarity, kind='item')\n",
    "print 'Bias-subtracted Item-based CF MSE: ' + str(get_mse(item_pred, test))"
   ]
  },
  {
   "cell_type": "code",
   "execution_count": 140,
   "metadata": {
    "collapsed": true
   },
   "outputs": [],
   "source": [
    "def predict_topk_nobias(ratings, similarity, kind='user', k=40):\n",
    "    pred = np.zeros(ratings.shape)\n",
    "    if kind == 'user':\n",
    "        user_bias = ratings.mean(axis=1)\n",
    "        ratings = (ratings - user_bias[:, np.newaxis]).copy()\n",
    "        for i in xrange(ratings.shape[0]):\n",
    "            top_k_users = [np.argsort(similarity[:,i])[:-k-1:-1]]\n",
    "            for j in xrange(ratings.shape[1]):\n",
    "                pred[i, j] = similarity[i, :][top_k_users].dot(ratings[:, j][top_k_users]) \n",
    "                pred[i, j] /= np.sum(np.abs(similarity[i, :][top_k_users]))\n",
    "        pred += user_bias[:, np.newaxis]\n",
    "    if kind == 'item':\n",
    "        item_bias = ratings.mean(axis=0)\n",
    "        ratings = (ratings - item_bias[np.newaxis, :]).copy()\n",
    "        for j in xrange(ratings.shape[1]):\n",
    "            top_k_items = [np.argsort(similarity[:,j])[:-k-1:-1]]\n",
    "            for i in xrange(ratings.shape[0]):\n",
    "                pred[i, j] = similarity[j, :][top_k_items].dot(ratings[i, :][top_k_items].T) \n",
    "                pred[i, j] /= np.sum(np.abs(similarity[j, :][top_k_items])) \n",
    "        pred += item_bias[np.newaxis, :]\n",
    "        \n",
    "    return pred"
   ]
  },
  {
   "cell_type": "code",
   "execution_count": 170,
   "metadata": {
    "collapsed": false
   },
   "outputs": [
    {
     "data": {
      "text/plain": [
       "(178, 50)"
      ]
     },
     "execution_count": 170,
     "metadata": {},
     "output_type": "execute_result"
    }
   ],
   "source": [
    "k_array = [5, 15, 30, 50, 100, 200]\n",
    "user_train_mse = []\n",
    "user_test_mse = []\n",
    "item_test_mse = []\n",
    "item_train_mse = []\n",
    "\n",
    "for k in k_array:\n",
    "    user_pred = predict_topk_nobias(train, user_similarity, kind='user', k=k)\n",
    "    item_pred = predict_topk_nobias(train, item_similarity, kind='item', k=k)\n",
    "    \n",
    "    user_train_mse += [get_mse(user_pred, train)]\n",
    "    user_test_mse += [get_mse(user_pred, test)]\n",
    "    \n",
    "    item_train_mse += [get_mse(item_pred, train)]\n",
    "    item_test_mse += [get_mse(item_pred, test)]\n",
    "\n",
    "user_pred = predict_topk_nobias(train, user_similarity, kind='user', k=30)\n",
    "user_pred.shape"
   ]
  },
  {
   "cell_type": "code",
   "execution_count": 142,
   "metadata": {
    "collapsed": false
   },
   "outputs": [
    {
     "data": {
      "image/png": "[encoded data removed]",
      "text/plain": [
       "<matplotlib.figure.Figure at 0x1193cf150>"
      ]
     },
     "metadata": {},
     "output_type": "display_data"
    }
   ],
   "source": [
    "pal = sns.color_palette(\"Set2\", 2)\n",
    "\n",
    "plt.figure(figsize=(8, 8))\n",
    "plt.plot(k_array, user_train_mse, c=pal[0], label='User-based train', alpha=0.5, linewidth=5)\n",
    "plt.plot(k_array, user_test_mse, c=pal[0], label='User-based test', linewidth=5)\n",
    "plt.plot(k_array, item_train_mse, c=pal[1], label='Item-based train', alpha=0.5, linewidth=5)\n",
    "plt.plot(k_array, item_test_mse, c=pal[1], label='Item-based test', linewidth=5)\n",
    "plt.legend(loc='best', fontsize=20)\n",
    "plt.xticks(fontsize=16);\n",
    "plt.yticks(fontsize=16);\n",
    "plt.xlabel('k', fontsize=30);\n",
    "plt.ylabel('MSE', fontsize=30);"
   ]
  },
  {
   "cell_type": "code",
   "execution_count": 171,
   "metadata": {
    "collapsed": false
   },
   "outputs": [],
   "source": [
    "# idx_to_rides = {}\n",
    "# df_groupby = co_rides_df.groupby(['label', 'id'])['label'].agg({'Frequency':'count'}).to_dict('series')['Frequency']\n",
    "# for label in np.sort(co_rides_df['label'].unique()):\n",
    "#     idx_to_rides[label] = df_groupby[label].index.values\n",
    "\n",
    "    \n",
    "idx_to_runs = {}\n",
    "df_groupby = co_runs_df.groupby(['label', 'id'])['label'].agg({'Frequency':'count'}).to_dict('series')['Frequency']\n",
    "for label in np.sort(co_runs_df['label'].unique()):\n",
    "    idx_to_runs[label] = df_groupby[label].index.values\n",
    "\n",
    "def top_k_labels(similarity, mapper, label_idx, k=3):\n",
    "    return [mapper[x] for x in np.argsort(similarity[label_idx,:])[:-k-1:-1]]"
   ]
  },
  {
   "cell_type": "code",
   "execution_count": 178,
   "metadata": {
    "collapsed": false
   },
   "outputs": [],
   "source": [
    "idx = 32\n",
    "# rides = top_k_labels(item_similarity, idx_to_rides, idx)\n",
    "runs = top_k_labels(item_similarity, idx_to_runs, idx)"
   ]
  },
  {
   "cell_type": "code",
   "execution_count": 179,
   "metadata": {
    "collapsed": false
   },
   "outputs": [
    {
     "data": {
      "text/plain": [
       "(50, 50)"
      ]
     },
     "execution_count": 179,
     "metadata": {},
     "output_type": "execute_result"
    }
   ],
   "source": [
    "# rides\n",
    "item_similarity.shape"
   ]
  },
  {
   "cell_type": "code",
   "execution_count": 180,
   "metadata": {
    "collapsed": false
   },
   "outputs": [
    {
     "name": "stdout",
     "output_type": "stream",
     "text": [
      "name: 07/28/2014 Evergreen, CO, distance: 5.68 mi, elevation gain: 1083 ft, closest city: Morrison\n",
      "\n",
      "name: Nice and icy , distance: 5.79 mi, elevation gain:   85 ft, closest city: Louisville\n",
      "\n",
      "name: Wash Park loop + 1600, 1200, 800, 400, distance: 5.64 mi, elevation gain:    0 ft, closest city: Glendale\n",
      "\n",
      "name: 05/27/2015 Denver, Colorado, distance: 5.76 mi, elevation gain:  184 ft, closest city: Glendale\n",
      "\n",
      "name: Huaka - continued morning run, distance: 5.71 mi, elevation gain:  581 ft, closest city: Parker\n",
      "\n",
      "name: Canyon trot, distance: 5.68 mi, elevation gain:  325 ft, closest city: Boulder\n",
      "\n",
      "name: Afternoon Run, distance: 5.65 mi, elevation gain: 1456 ft, closest city: Boulder\n",
      "\n",
      "name: Lion's Lair + Sanitas Valley w/AB, CN, KS, distance: 5.66 mi, elevation gain: 1270 ft, closest city: Boulder\n",
      "\n",
      "name: NP playing cards, distance: 5.74 mi, elevation gain:   71 ft, closest city: Glendale\n",
      "\n",
      "name: 08/13/2015 Fountain, Colorado, distance: 5.75 mi, elevation gain:   64 ft, closest city: Fountain\n",
      "\n",
      "name: Evening Run, distance: 5.75 mi, elevation gain:   37 ft, closest city: Glendale\n",
      "\n",
      "name: Afternoon Run, distance: 5.72 mi, elevation gain:  123 ft, closest city: Boulder\n",
      "\n",
      "name: Lunch Run, distance: 5.85 mi, elevation gain:  279 ft, closest city: Boulder\n",
      "\n",
      "name: Morning Run, distance: 5.84 mi, elevation gain:  245 ft, closest city: Louisville\n",
      "\n",
      "name: Snowshoes would have been helpful, distance: 5.83 mi, elevation gain:  149 ft, closest city: Glendale\n",
      "\n",
      "name: Run 45min 4x10s SS, distance: 5.71 mi, elevation gain:  243 ft, closest city: Boulder\n",
      "\n",
      "name: Afternoon Run, distance: 5.71 mi, elevation gain:    0 ft, closest city: Glendale\n",
      "\n",
      "name: Afternoon Run, distance: 5.71 mi, elevation gain:    0 ft, closest city: Glendale\n",
      "\n",
      "name: 14 mile attempt with significant hamstring flare , distance: 5.75 mi, elevation gain:  135 ft, closest city: Glendale\n",
      "\n",
      "name: Morning Run, distance: 5.72 mi, elevation gain:  993 ft, closest city: Morrison\n",
      "\n",
      "name: Morning Run, distance: 5.72 mi, elevation gain:  993 ft, closest city: Morrison\n",
      "\n",
      "name: Bluff Lake, distance: 5.80 mi, elevation gain:  326 ft, closest city: Denver\n",
      "\n",
      "name: Morning Run, distance: 5.74 mi, elevation gain:   89 ft, closest city: Denver\n",
      "\n",
      "name: Vacation's Over!, distance: 5.71 mi, elevation gain:  305 ft, closest city: Boulder\n",
      "\n",
      "name: Morning Run, distance: 5.75 mi, elevation gain:   88 ft, closest city: Denver\n",
      "\n",
      "name: Afternoon Run, distance: 5.71 mi, elevation gain:   57 ft, closest city: Fountain\n",
      "\n",
      "name: Morning Run, distance: 5.67 mi, elevation gain:   61 ft, closest city: Denver\n",
      "\n"
     ]
    }
   ],
   "source": [
    "# for activity_id in rides[1]:\n",
    "#     activity = co_rides_df[co_rides_df['id'] == activity_id].values\n",
    "#     print \"name: {}, distance: {:4.2f} mi, elevation gain: {:4.0f} ft, closest city: {}\".format(activity[0, 1], activity[0, 2] * 0.000621371, activity[0, 5] * 3.28084, activity[0, 39])\n",
    "#     print\n",
    "\n",
    "for activity_id in runs[0]:\n",
    "    activity = co_runs_df[co_runs_df['id'] == activity_id].values\n",
    "    print \"name: {}, distance: {:4.2f} mi, elevation gain: {:4.0f} ft, closest city: {}\".format(activity[0, 1], activity[0, 2] * 0.000621371, activity[0, 5] * 3.28084, activity[0, 39])\n",
    "    print"
   ]
  },
  {
   "cell_type": "markdown",
   "metadata": {
    "collapsed": true
   },
   "source": [
    "It predicts. Now let's see if we can get a better clustering alogorythm. I started off with k means with 50 clusters. Let's try Agglomerative clustering."
   ]
  },
  {
   "cell_type": "code",
   "execution_count": 227,
   "metadata": {
    "collapsed": true
   },
   "outputs": [],
   "source": [
    "X = co_runs_df[['distance', 'total_elevation_gain', 'start_lat', 'start_lng']].values"
   ]
  },
  {
   "cell_type": "code",
   "execution_count": 246,
   "metadata": {
    "collapsed": false
   },
   "outputs": [],
   "source": [
    "from sklearn.cluster import AgglomerativeClustering\n",
    "from sklearn.neighbors import kneighbors_graph\n",
    "\n",
    "X = StandardScaler().fit_transform(X)\n",
    "# connectivity matrix for structured Ward\n",
    "connectivity = kneighbors_graph(X, n_neighbors=10, include_self=False)\n",
    "# make connectivity symmetric\n",
    "connectivity = 0.5 * (connectivity + connectivity.T)\n",
    "ward = AgglomerativeClustering(n_clusters=125, linkage='ward', connectivity=connectivity)"
   ]
  },
  {
   "cell_type": "code",
   "execution_count": 247,
   "metadata": {
    "collapsed": false
   },
   "outputs": [
    {
     "data": {
      "text/plain": [
       "AgglomerativeClustering(affinity='euclidean', compute_full_tree='auto',\n",
       "            connectivity=<1325x1325 sparse matrix of type '<type 'numpy.float64'>'\n",
       "\twith 17486 stored elements in Compressed Sparse Row format>,\n",
       "            linkage='ward', memory=Memory(cachedir=None), n_clusters=125,\n",
       "            pooling_func=<function mean at 0x10477ad70>)"
      ]
     },
     "execution_count": 247,
     "metadata": {},
     "output_type": "execute_result"
    }
   ],
   "source": [
    "ward.fit(X)"
   ]
  },
  {
   "cell_type": "code",
   "execution_count": 248,
   "metadata": {
    "collapsed": false
   },
   "outputs": [
    {
     "data": {
      "text/plain": [
       "10.6"
      ]
     },
     "execution_count": 248,
     "metadata": {},
     "output_type": "execute_result"
    }
   ],
   "source": [
    "y_pred = ward.labels_.astype(np.int)\n",
    "np.mean(np.bincount(y_pred))"
   ]
  },
  {
   "cell_type": "code",
   "execution_count": 195,
   "metadata": {
    "collapsed": false
   },
   "outputs": [
    {
     "data": {
      "image/png": "[encoded data removed]",
      "text/plain": [
       "<matplotlib.figure.Figure at 0x116f2f410>"
      ]
     },
     "metadata": {},
     "output_type": "display_data"
    }
   ],
   "source": [
    "n_samples, n_features = X.shape\n",
    "def get_silhouette_score(estimator):\n",
    "    est = estimator\n",
    "    est.fit(X)\n",
    "    sil_avg = metrics.silhouette_score(X, est.labels_.astype(np.int))\n",
    "    return sil_avg\n",
    "\n",
    "def get_estimators(n):\n",
    "    estimators = [KMeans(init='k-means++', n_clusters=n, n_init=10), \n",
    "                  AgglomerativeClustering(n_clusters=n, linkage='ward', connectivity=connectivity)]\n",
    "    return estimators\n",
    "\n",
    "scores_arr = []\n",
    "for n in range(2, 50):\n",
    "    sil_scores = [get_silhouette_score(estimator) for estimator in get_estimators(n)]\n",
    "    scores_arr.append(sil_scores)\n",
    "\n",
    "plt.plot(range(2, 50), np.array(scores_arr)[:, 0])\n",
    "plt.plot(range(2, 50), np.array(scores_arr)[:, 1])    \n",
    "plt.xlabel('K')\n",
    "plt.ylabel('Silhouette Score')\n",
    "plt.title('Silhouette Score vs K')\n",
    "plt.legend(['kmeans++', 'ward_linkage'])\n",
    "plt.show()"
   ]
  },
  {
   "cell_type": "code",
   "execution_count": 217,
   "metadata": {
    "collapsed": false
   },
   "outputs": [
    {
     "data": {
      "image/png": "[encoded data removed]",
      "text/plain": [
       "<matplotlib.figure.Figure at 0x11a196050>"
      ]
     },
     "metadata": {},
     "output_type": "display_data"
    }
   ],
   "source": [
    "n_samples, n_features = X.shape\n",
    "def get_avg_pts_per_cluster(estimator):\n",
    "    estimator.fit(X)\n",
    "    y_pred = estimator.labels_.astype(np.int)\n",
    "    return np.mean(np.bincount(y_pred))\n",
    "\n",
    "def get_estimators(n):\n",
    "    estimators = [KMeans(init='k-means++', n_clusters=n, n_init=10), \n",
    "                  AgglomerativeClustering(n_clusters=n, linkage='ward', connectivity=connectivity)]\n",
    "    return estimators\n",
    "\n",
    "scores_arr = []\n",
    "for n in range(2, 50):\n",
    "    avg_pts_per_cluster = [get_avg_pts_per_cluster(estimator) for estimator in get_estimators(n)]\n",
    "    scores_arr.append(avg_pts_per_cluster)\n",
    "\n",
    "plt.plot(range(2, 50), np.array(scores_arr)[:, 0])\n",
    "plt.plot(range(2, 50), np.array(scores_arr)[:, 1])    \n",
    "plt.xlabel('K')\n",
    "plt.ylabel('Average Rides Per Cluster (ARPC)')\n",
    "plt.title('ARPC vs K')\n",
    "plt.legend(['kmeans++', 'ward_linkage'])\n",
    "plt.show()"
   ]
  },
  {
   "cell_type": "code",
   "execution_count": 220,
   "metadata": {
    "collapsed": false
   },
   "outputs": [
    {
     "data": {
      "text/plain": [
       "[[2951.0, 2951.0],\n",
       " [1967.3333333333333, 1967.3333333333333],\n",
       " [1475.5, 1475.5],\n",
       " [1180.4000000000001, 1180.4000000000001],\n",
       " [983.66666666666663, 983.66666666666663],\n",
       " [843.14285714285711, 843.14285714285711],\n",
       " [737.75, 737.75],\n",
       " [655.77777777777783, 655.77777777777783],\n",
       " [590.20000000000005, 590.20000000000005],\n",
       " [536.5454545454545, 536.5454545454545],\n",
       " [491.83333333333331, 491.83333333333331],\n",
       " [454.0, 454.0],\n",
       " [421.57142857142856, 421.57142857142856],\n",
       " [393.46666666666664, 393.46666666666664],\n",
       " [368.875, 368.875],\n",
       " [347.1764705882353, 347.1764705882353],\n",
       " [327.88888888888891, 327.88888888888891],\n",
       " [310.63157894736844, 310.63157894736844],\n",
       " [295.10000000000002, 295.10000000000002],\n",
       " [281.04761904761904, 281.04761904761904],\n",
       " [268.27272727272725, 268.27272727272725],\n",
       " [256.60869565217394, 256.60869565217394],\n",
       " [245.91666666666666, 245.91666666666666],\n",
       " [236.08000000000001, 236.08000000000001],\n",
       " [227.0, 227.0],\n",
       " [218.59259259259258, 218.59259259259258],\n",
       " [210.78571428571428, 210.78571428571428],\n",
       " [203.51724137931035, 203.51724137931035],\n",
       " [196.73333333333332, 196.73333333333332],\n",
       " [190.38709677419354, 190.38709677419354],\n",
       " [184.4375, 184.4375],\n",
       " [178.84848484848484, 178.84848484848484],\n",
       " [173.58823529411765, 173.58823529411765],\n",
       " [168.62857142857143, 168.62857142857143],\n",
       " [163.94444444444446, 163.94444444444446],\n",
       " [159.51351351351352, 159.51351351351352],\n",
       " [155.31578947368422, 155.31578947368422],\n",
       " [151.33333333333334, 151.33333333333334],\n",
       " [147.55000000000001, 147.55000000000001],\n",
       " [143.95121951219511, 143.95121951219511],\n",
       " [140.52380952380952, 140.52380952380952],\n",
       " [137.25581395348837, 137.25581395348837],\n",
       " [134.13636363636363, 134.13636363636363],\n",
       " [131.15555555555557, 131.15555555555557],\n",
       " [128.30434782608697, 128.30434782608697],\n",
       " [125.57446808510639, 125.57446808510639],\n",
       " [122.95833333333333, 122.95833333333333],\n",
       " [120.44897959183673, 120.44897959183673]]"
      ]
     },
     "execution_count": 220,
     "metadata": {},
     "output_type": "execute_result"
    }
   ],
   "source": [
    "scores_arr[0]"
   ]
  },
  {
   "cell_type": "code",
   "execution_count": null,
   "metadata": {
    "collapsed": true
   },
   "outputs": [],
   "source": []
  }
 ],
 "metadata": {
  "anaconda-cloud": {},
  "kernelspec": {
   "display_name": "Python [conda root]",
   "language": "python",
   "name": "conda-root-py"
  },
  "language_info": {
   "codemirror_mode": {
    "name": "ipython",
    "version": 2
   },
   "file_extension": ".py",
   "mimetype": "text/x-python",
   "name": "python",
   "nbconvert_exporter": "python",
   "pygments_lexer": "ipython2",
   "version": "2.7.12"
  }
 },
 "nbformat": 4,
 "nbformat_minor": 1
}
