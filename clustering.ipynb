{
 "cells": [
  {
   "cell_type": "code",
   "execution_count": 3,
   "metadata": {
    "collapsed": true
   },
   "outputs": [],
   "source": [
    "import pandas as pd\n",
    "from sklearn.cluster import KMeans\n",
    "\n",
    "activities_df = pd.read_csv('data/activities_small.csv')\n",
    "zero_dist_mask = activities_df['distance'] > 0\n",
    "activities_df = activities_df[zero_dist_mask]\n",
    "runs_df = activities_df[activities_df.type == 'Run']\n",
    "rides_df = activities_df[activities_df.type == 'Ride']"
   ]
  },
  {
   "cell_type": "code",
   "execution_count": 6,
   "metadata": {
    "collapsed": false
   },
   "outputs": [
    {
     "name": "stdout",
     "output_type": "stream",
     "text": [
      "<class 'pandas.core.frame.DataFrame'>\n",
      "Int64Index: 2093 entries, 0 to 2179\n",
      "Data columns (total 38 columns):\n",
      "Unnamed: 0                2093 non-null int64\n",
      "id                        2093 non-null int64\n",
      "resource_state            2093 non-null int64\n",
      "external_id               2093 non-null object\n",
      "athlete                   1924 non-null float64\n",
      "name                      2091 non-null object\n",
      "distance                  2093 non-null float64\n",
      "moving_time               2093 non-null float64\n",
      "elapsed_time              2093 non-null float64\n",
      "total_elevation_gain      2093 non-null float64\n",
      "type                      2093 non-null object\n",
      "start_date                2093 non-null object\n",
      "start_date_local          2093 non-null object\n",
      "timezone                  2093 non-null object\n",
      "start_latlng              1832 non-null object\n",
      "end_latlng                1832 non-null object\n",
      "achievement_count         2093 non-null int64\n",
      "kudos_count               2093 non-null int64\n",
      "comment_count             2093 non-null int64\n",
      "athlete_count             2093 non-null int64\n",
      "photo_count               2093 non-null int64\n",
      "total_photo_count         2093 non-null int64\n",
      "map                       2093 non-null object\n",
      "trainer                   2093 non-null bool\n",
      "commute                   2093 non-null bool\n",
      "manual                    2093 non-null bool\n",
      "private                   2093 non-null bool\n",
      "flagged                   2093 non-null bool\n",
      "average_speed             2093 non-null float64\n",
      "max_speed                 2093 non-null float64\n",
      "average_watts             1615 non-null float64\n",
      "max_watts                 522 non-null float64\n",
      "weighted_average_watts    521 non-null float64\n",
      "kilojoules                1602 non-null float64\n",
      "device_watts              2093 non-null bool\n",
      "has_heartrate             2093 non-null bool\n",
      "average_heartrate         681 non-null float64\n",
      "max_heartrate             681 non-null float64\n",
      "dtypes: bool(7), float64(13), int64(9), object(9)\n",
      "memory usage: 537.6+ KB\n"
     ]
    }
   ],
   "source": [
    "activities_df.info()"
   ]
  },
  {
   "cell_type": "code",
   "execution_count": null,
   "metadata": {
    "collapsed": true
   },
   "outputs": [],
   "source": []
  }
 ],
 "metadata": {
  "anaconda-cloud": {},
  "kernelspec": {
   "display_name": "Python [conda root]",
   "language": "python",
   "name": "conda-root-py"
  }
 },
 "nbformat": 4,
 "nbformat_minor": 1
}
