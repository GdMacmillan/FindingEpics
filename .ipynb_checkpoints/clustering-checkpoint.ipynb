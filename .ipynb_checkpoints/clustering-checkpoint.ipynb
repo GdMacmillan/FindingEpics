{
 "cells": [
  {
   "cell_type": "code",
   "execution_count": 14,
   "metadata": {
    "collapsed": true
   },
   "outputs": [],
   "source": [
    "import pandas as pd\n",
    "from sklearn.cluster import KMeans\n",
    "\n",
    "activities_df = pd.read_csv('data/activities_small.csv')\n",
    "zero_dist_mask = activities_df['distance'] > 0\n",
    "activities_df = activities_df[zero_dist_mask]\n",
    "runs_df = activities_df[activities_df.type == 'Run']\n",
    "rides_df = activities_df[activities_df.type == 'Ride']"
   ]
  },
  {
   "cell_type": "code",
   "execution_count": 16,
   "metadata": {
    "collapsed": false
   },
   "outputs": [
    {
     "name": "stdout",
     "output_type": "stream",
     "text": [
      "<class 'pandas.core.frame.DataFrame'>\n",
      "Int64Index: 1524 entries, 0 to 2179\n",
      "Data columns (total 38 columns):\n",
      "Unnamed: 0                1524 non-null int64\n",
      "id                        1524 non-null int64\n",
      "resource_state            1524 non-null int64\n",
      "external_id               1524 non-null object\n",
      "athlete                   1394 non-null float64\n",
      "name                      1524 non-null object\n",
      "distance                  1524 non-null float64\n",
      "moving_time               1524 non-null float64\n",
      "elapsed_time              1524 non-null float64\n",
      "total_elevation_gain      1524 non-null float64\n",
      "type                      1524 non-null object\n",
      "start_date                1524 non-null object\n",
      "start_date_local          1524 non-null object\n",
      "timezone                  1524 non-null object\n",
      "start_latlng              1325 non-null object\n",
      "end_latlng                1325 non-null object\n",
      "achievement_count         1524 non-null int64\n",
      "kudos_count               1524 non-null int64\n",
      "comment_count             1524 non-null int64\n",
      "athlete_count             1524 non-null int64\n",
      "photo_count               1524 non-null int64\n",
      "total_photo_count         1524 non-null int64\n",
      "map                       1524 non-null object\n",
      "trainer                   1524 non-null bool\n",
      "commute                   1524 non-null bool\n",
      "manual                    1524 non-null bool\n",
      "private                   1524 non-null bool\n",
      "flagged                   1524 non-null bool\n",
      "average_speed             1524 non-null float64\n",
      "max_speed                 1524 non-null float64\n",
      "average_watts             1436 non-null float64\n",
      "max_watts                 342 non-null float64\n",
      "weighted_average_watts    342 non-null float64\n",
      "kilojoules                1423 non-null float64\n",
      "device_watts              1524 non-null bool\n",
      "has_heartrate             1524 non-null bool\n",
      "average_heartrate         431 non-null float64\n",
      "max_heartrate             431 non-null float64\n",
      "dtypes: bool(7), float64(13), int64(9), object(9)\n",
      "memory usage: 391.4+ KB\n"
     ]
    }
   ],
   "source": [
    "rides_df.info()"
   ]
  },
  {
   "cell_type": "code",
   "execution_count": null,
   "metadata": {
    "collapsed": true
   },
   "outputs": [],
   "source": []
  }
 ],
 "metadata": {
  "anaconda-cloud": {},
  "kernelspec": {
   "display_name": "Python [conda root]",
   "language": "python",
   "name": "conda-root-py"
  },
  "language_info": {
   "codemirror_mode": {
    "name": "ipython",
    "version": 2
   },
   "file_extension": ".py",
   "mimetype": "text/x-python",
   "name": "python",
   "nbconvert_exporter": "python",
   "pygments_lexer": "ipython2",
   "version": "2.7.12"
  }
 },
 "nbformat": 4,
 "nbformat_minor": 1
}
